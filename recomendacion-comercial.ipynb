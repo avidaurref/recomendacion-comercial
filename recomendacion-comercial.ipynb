{
 "cells": [
  {
   "cell_type": "markdown",
   "metadata": {},
   "source": [
    "# Recomendación de establecimientos comerciales\n",
    "\n",
    "Un banco desea tener un algoritmo de recomendación de establecimientos comerciales según las características de uso de la tarjeta de débito o crédito de sus clientes. El objetivo es poder predecir la preferencia que tendrá por un determinado establecimiento mediante el coportamiento del uso de su tarjeta."
   ]
  },
  {
   "cell_type": "markdown",
   "metadata": {},
   "source": [
    "## Obtención de los datos"
   ]
  },
  {
   "cell_type": "code",
   "execution_count": 1,
   "metadata": {},
   "outputs": [],
   "source": [
    "import pandas as pd\n",
    "import numpy as np\n",
    "import matplotlib.pyplot as plt\n",
    "import seaborn as sns\n",
    "import os\n",
    "import gc\n",
    "\n",
    "from sklearn.metrics import mean_squared_error\n",
    "from math import sqrt\n",
    "\n",
    "DATA_DIR = 'data/'\n",
    "file_dir = {'transactions': os.path.join(DATA_DIR, '01dataBaseTrainTrxRec.csv'),\n",
    "            'clients': os.path.join(DATA_DIR, '02dataBasePerfilRec.csv'),\n",
    "            'test': os.path.join(DATA_DIR, '03dataBaseTestRec.csv'),\n",
    "            'TestKey': os.path.join(DATA_DIR, '05dataBaseTestKeyRec.csv')}"
   ]
  },
  {
   "cell_type": "code",
   "execution_count": 2,
   "metadata": {},
   "outputs": [],
   "source": [
    "# Obtención de las tablas\n",
    "train = pd.read_csv(file_dir['transactions'])\n",
    "info_clients = pd.read_csv(file_dir['clients'])\n",
    "testkeys = pd.read_csv(file_dir['TestKey'])\n",
    "\n",
    "transactions = pd.merge(train, info_clients, on = 'codCliente', how='left')"
   ]
  },
  {
   "cell_type": "code",
   "execution_count": 3,
   "metadata": {},
   "outputs": [
    {
     "data": {
      "text/plain": [
       "(2058820, 2)"
      ]
     },
     "execution_count": 3,
     "metadata": {},
     "output_type": "execute_result"
    }
   ],
   "source": [
    "# Obtenemos todos los keys de los establecimientos y de clientes\n",
    "frames = [transactions[['codCliente','codEstab']],testkeys]\n",
    "full = pd.concat(frames)\n",
    "full.shape"
   ]
  },
  {
   "cell_type": "markdown",
   "metadata": {},
   "source": [
    "Se están analizando alrededor de dos millones de transacciones"
   ]
  },
  {
   "cell_type": "markdown",
   "metadata": {},
   "source": [
    "## Comprensión de los datos"
   ]
  },
  {
   "cell_type": "code",
   "execution_count": 4,
   "metadata": {},
   "outputs": [
    {
     "data": {
      "text/html": [
       "<div>\n",
       "<style>\n",
       "    .dataframe thead tr:only-child th {\n",
       "        text-align: right;\n",
       "    }\n",
       "\n",
       "    .dataframe thead th {\n",
       "        text-align: left;\n",
       "    }\n",
       "\n",
       "    .dataframe tbody tr th {\n",
       "        vertical-align: top;\n",
       "    }\n",
       "</style>\n",
       "<table border=\"1\" class=\"dataframe\">\n",
       "  <thead>\n",
       "    <tr style=\"text-align: right;\">\n",
       "      <th></th>\n",
       "      <th>fechaOper</th>\n",
       "      <th>codCliente</th>\n",
       "      <th>codGiro</th>\n",
       "      <th>codEstab</th>\n",
       "      <th>flagLimaProvEstab</th>\n",
       "      <th>ubigeoEstab</th>\n",
       "      <th>ctdTrx</th>\n",
       "      <th>ratingMonto</th>\n",
       "      <th>rangoEdad</th>\n",
       "      <th>rangoIngreso</th>\n",
       "      <th>...</th>\n",
       "      <th>flagLimaProvCliente</th>\n",
       "      <th>ubigeoCliente</th>\n",
       "      <th>rangoCtdProdAct</th>\n",
       "      <th>rangoCtdProdPas</th>\n",
       "      <th>rangoCtdProdSeg</th>\n",
       "      <th>flagBxi</th>\n",
       "      <th>saldoTcEntidad1</th>\n",
       "      <th>saldoTcEntidad2</th>\n",
       "      <th>saldoTcEntidad3</th>\n",
       "      <th>saldoTcEntidad4</th>\n",
       "    </tr>\n",
       "  </thead>\n",
       "  <tbody>\n",
       "    <tr>\n",
       "      <th>0</th>\n",
       "      <td>2017-01-29 00:00:00</td>\n",
       "      <td>7649</td>\n",
       "      <td>138.0</td>\n",
       "      <td>43629</td>\n",
       "      <td>1</td>\n",
       "      <td>176.0</td>\n",
       "      <td>1</td>\n",
       "      <td>0.014072</td>\n",
       "      <td>Rango4</td>\n",
       "      <td>Rango2</td>\n",
       "      <td>...</td>\n",
       "      <td>1</td>\n",
       "      <td>281.0</td>\n",
       "      <td>Rango1</td>\n",
       "      <td>Rango2</td>\n",
       "      <td>Rango1</td>\n",
       "      <td>1</td>\n",
       "      <td>Rango3</td>\n",
       "      <td>Rango1</td>\n",
       "      <td>Rango1</td>\n",
       "      <td>Rango1</td>\n",
       "    </tr>\n",
       "    <tr>\n",
       "      <th>1</th>\n",
       "      <td>2016-12-01 00:00:00</td>\n",
       "      <td>24604</td>\n",
       "      <td>75.0</td>\n",
       "      <td>4326</td>\n",
       "      <td>0</td>\n",
       "      <td>81.0</td>\n",
       "      <td>1</td>\n",
       "      <td>0.001667</td>\n",
       "      <td>Rango2</td>\n",
       "      <td>Rango3</td>\n",
       "      <td>...</td>\n",
       "      <td>0</td>\n",
       "      <td>185.0</td>\n",
       "      <td>Rango1</td>\n",
       "      <td>Rango1</td>\n",
       "      <td>Rango2</td>\n",
       "      <td>1</td>\n",
       "      <td>Rango4</td>\n",
       "      <td>Rango3</td>\n",
       "      <td>Rango1</td>\n",
       "      <td>Rango1</td>\n",
       "    </tr>\n",
       "    <tr>\n",
       "      <th>2</th>\n",
       "      <td>2017-06-01 00:00:00</td>\n",
       "      <td>15289</td>\n",
       "      <td>75.0</td>\n",
       "      <td>4326</td>\n",
       "      <td>0</td>\n",
       "      <td>81.0</td>\n",
       "      <td>1</td>\n",
       "      <td>0.000127</td>\n",
       "      <td>Rango3</td>\n",
       "      <td>Rango1</td>\n",
       "      <td>...</td>\n",
       "      <td>0</td>\n",
       "      <td>185.0</td>\n",
       "      <td>Rango1</td>\n",
       "      <td>Rango1</td>\n",
       "      <td>Rango1</td>\n",
       "      <td>1</td>\n",
       "      <td>Rango6</td>\n",
       "      <td>Rango1</td>\n",
       "      <td>Rango1</td>\n",
       "      <td>Rango1</td>\n",
       "    </tr>\n",
       "    <tr>\n",
       "      <th>3</th>\n",
       "      <td>2017-09-22 00:00:00</td>\n",
       "      <td>5190</td>\n",
       "      <td>110.0</td>\n",
       "      <td>59776</td>\n",
       "      <td>1</td>\n",
       "      <td>156.0</td>\n",
       "      <td>1</td>\n",
       "      <td>0.001167</td>\n",
       "      <td>Rango5</td>\n",
       "      <td>Rango5</td>\n",
       "      <td>...</td>\n",
       "      <td>1</td>\n",
       "      <td>271.0</td>\n",
       "      <td>Rango2</td>\n",
       "      <td>Rango1</td>\n",
       "      <td>Rango2</td>\n",
       "      <td>1</td>\n",
       "      <td>Rango6</td>\n",
       "      <td>Rango1</td>\n",
       "      <td>Rango1</td>\n",
       "      <td>Rango1</td>\n",
       "    </tr>\n",
       "    <tr>\n",
       "      <th>4</th>\n",
       "      <td>2017-05-05 00:00:00</td>\n",
       "      <td>16635</td>\n",
       "      <td>75.0</td>\n",
       "      <td>31043</td>\n",
       "      <td>0</td>\n",
       "      <td>81.0</td>\n",
       "      <td>1</td>\n",
       "      <td>0.047386</td>\n",
       "      <td>Rango5</td>\n",
       "      <td>Rango6</td>\n",
       "      <td>...</td>\n",
       "      <td>0</td>\n",
       "      <td>185.0</td>\n",
       "      <td>Rango1</td>\n",
       "      <td>Rango1</td>\n",
       "      <td>Rango1</td>\n",
       "      <td>1</td>\n",
       "      <td>NaN</td>\n",
       "      <td>NaN</td>\n",
       "      <td>NaN</td>\n",
       "      <td>NaN</td>\n",
       "    </tr>\n",
       "  </tbody>\n",
       "</table>\n",
       "<p>5 rows × 21 columns</p>\n",
       "</div>"
      ],
      "text/plain": [
       "             fechaOper  codCliente  codGiro  codEstab  flagLimaProvEstab  \\\n",
       "0  2017-01-29 00:00:00        7649    138.0     43629                  1   \n",
       "1  2016-12-01 00:00:00       24604     75.0      4326                  0   \n",
       "2  2017-06-01 00:00:00       15289     75.0      4326                  0   \n",
       "3  2017-09-22 00:00:00        5190    110.0     59776                  1   \n",
       "4  2017-05-05 00:00:00       16635     75.0     31043                  0   \n",
       "\n",
       "   ubigeoEstab  ctdTrx  ratingMonto rangoEdad rangoIngreso       ...        \\\n",
       "0        176.0       1     0.014072    Rango4       Rango2       ...         \n",
       "1         81.0       1     0.001667    Rango2       Rango3       ...         \n",
       "2         81.0       1     0.000127    Rango3       Rango1       ...         \n",
       "3        156.0       1     0.001167    Rango5       Rango5       ...         \n",
       "4         81.0       1     0.047386    Rango5       Rango6       ...         \n",
       "\n",
       "   flagLimaProvCliente  ubigeoCliente  rangoCtdProdAct rangoCtdProdPas  \\\n",
       "0                    1          281.0           Rango1          Rango2   \n",
       "1                    0          185.0           Rango1          Rango1   \n",
       "2                    0          185.0           Rango1          Rango1   \n",
       "3                    1          271.0           Rango2          Rango1   \n",
       "4                    0          185.0           Rango1          Rango1   \n",
       "\n",
       "  rangoCtdProdSeg flagBxi  saldoTcEntidad1 saldoTcEntidad2 saldoTcEntidad3  \\\n",
       "0          Rango1       1           Rango3          Rango1          Rango1   \n",
       "1          Rango2       1           Rango4          Rango3          Rango1   \n",
       "2          Rango1       1           Rango6          Rango1          Rango1   \n",
       "3          Rango2       1           Rango6          Rango1          Rango1   \n",
       "4          Rango1       1              NaN             NaN             NaN   \n",
       "\n",
       "  saldoTcEntidad4  \n",
       "0          Rango1  \n",
       "1          Rango1  \n",
       "2          Rango1  \n",
       "3          Rango1  \n",
       "4             NaN  \n",
       "\n",
       "[5 rows x 21 columns]"
      ]
     },
     "execution_count": 4,
     "metadata": {},
     "output_type": "execute_result"
    }
   ],
   "source": [
    "transactions.head()"
   ]
  },
  {
   "cell_type": "markdown",
   "metadata": {},
   "source": [
    "Un establecimiento (codEstab) pertenece solamente a un rubro (codGiro), este establecimiento está dentro o fuera Lima (flagLimaProvEstab), el establecimiento se encuentra en un lugar geografico determinado (ubigeoEstab). Cada registro tiene la cantidad de transacciones (ctdTrx) realizada en una fecha determinada (fechaOper) en un establecimiento (codEstab) por un cliente (codCliente). Según la transacción realizada en ese día se la da un rating de acuerdo al monto gastado (ratingMonto).\n",
    "\n",
    "El propósito del algoritmo es predecir el label ratingMonto mediante el código del cliente y el código del establecimiento"
   ]
  },
  {
   "cell_type": "code",
   "execution_count": 5,
   "metadata": {},
   "outputs": [
    {
     "data": {
      "text/html": [
       "<div>\n",
       "<style>\n",
       "    .dataframe thead tr:only-child th {\n",
       "        text-align: right;\n",
       "    }\n",
       "\n",
       "    .dataframe thead th {\n",
       "        text-align: left;\n",
       "    }\n",
       "\n",
       "    .dataframe tbody tr th {\n",
       "        vertical-align: top;\n",
       "    }\n",
       "</style>\n",
       "<table border=\"1\" class=\"dataframe\">\n",
       "  <thead>\n",
       "    <tr style=\"text-align: right;\">\n",
       "      <th></th>\n",
       "      <th>codCliente</th>\n",
       "      <th>codEstab</th>\n",
       "    </tr>\n",
       "  </thead>\n",
       "  <tbody>\n",
       "    <tr>\n",
       "      <th>0</th>\n",
       "      <td>1182</td>\n",
       "      <td>68644</td>\n",
       "    </tr>\n",
       "    <tr>\n",
       "      <th>1</th>\n",
       "      <td>1279</td>\n",
       "      <td>789</td>\n",
       "    </tr>\n",
       "    <tr>\n",
       "      <th>2</th>\n",
       "      <td>12884</td>\n",
       "      <td>6263</td>\n",
       "    </tr>\n",
       "    <tr>\n",
       "      <th>3</th>\n",
       "      <td>1333</td>\n",
       "      <td>899</td>\n",
       "    </tr>\n",
       "    <tr>\n",
       "      <th>4</th>\n",
       "      <td>1366</td>\n",
       "      <td>6180</td>\n",
       "    </tr>\n",
       "  </tbody>\n",
       "</table>\n",
       "</div>"
      ],
      "text/plain": [
       "   codCliente  codEstab\n",
       "0        1182     68644\n",
       "1        1279       789\n",
       "2       12884      6263\n",
       "3        1333       899\n",
       "4        1366      6180"
      ]
     },
     "execution_count": 5,
     "metadata": {},
     "output_type": "execute_result"
    }
   ],
   "source": [
    "testkeys.head()"
   ]
  },
  {
   "cell_type": "markdown",
   "metadata": {},
   "source": [
    "El conjunto de datos está dividido en datos de entrenamiento y de prueba"
   ]
  },
  {
   "cell_type": "code",
   "execution_count": 6,
   "metadata": {},
   "outputs": [
    {
     "name": "stdout",
     "output_type": "stream",
     "text": [
      "Porcentaje entrenamiento: 77.0\n",
      "Porcentaje prueba: 23.0\n"
     ]
    },
    {
     "data": {
      "text/plain": [
       "313"
      ]
     },
     "execution_count": 6,
     "metadata": {},
     "output_type": "execute_result"
    }
   ],
   "source": [
    "registros_train = transactions.shape[0]\n",
    "registros_test = testkeys.shape[0]\n",
    "registros_total = full.shape[0]\n",
    "\n",
    "porcentaje_train = round(registros_train/registros_total,2) * 100\n",
    "porcentaje_test = round(registros_test/registros_total,2) * 100\n",
    "\n",
    "print(\"Porcentaje entrenamiento: {}\".format(porcentaje_train))\n",
    "print(\"Porcentaje prueba: {}\".format(porcentaje_test))\n",
    "\n",
    "# Limpieza de la memoria\n",
    "del(registros_train,registros_test,registros_total)\n",
    "del(porcentaje_train,porcentaje_test)\n",
    "gc.collect()"
   ]
  },
  {
   "cell_type": "markdown",
   "metadata": {},
   "source": [
    "El 77% del conjunto de datos será utilizado para el entrenamiento. El 23% del conjunto de datos para probar el modelo"
   ]
  },
  {
   "cell_type": "markdown",
   "metadata": {},
   "source": [
    "También se cuenta con información del cliente"
   ]
  },
  {
   "cell_type": "code",
   "execution_count": 7,
   "metadata": {},
   "outputs": [
    {
     "data": {
      "text/html": [
       "<div>\n",
       "<style>\n",
       "    .dataframe thead tr:only-child th {\n",
       "        text-align: right;\n",
       "    }\n",
       "\n",
       "    .dataframe thead th {\n",
       "        text-align: left;\n",
       "    }\n",
       "\n",
       "    .dataframe tbody tr th {\n",
       "        vertical-align: top;\n",
       "    }\n",
       "</style>\n",
       "<table border=\"1\" class=\"dataframe\">\n",
       "  <thead>\n",
       "    <tr style=\"text-align: right;\">\n",
       "      <th></th>\n",
       "      <th>codCliente</th>\n",
       "      <th>rangoEdad</th>\n",
       "      <th>rangoIngreso</th>\n",
       "      <th>flagGenero</th>\n",
       "      <th>flagLimaProvCliente</th>\n",
       "      <th>ubigeoCliente</th>\n",
       "      <th>rangoCtdProdAct</th>\n",
       "      <th>rangoCtdProdPas</th>\n",
       "      <th>rangoCtdProdSeg</th>\n",
       "      <th>flagBxi</th>\n",
       "      <th>saldoTcEntidad1</th>\n",
       "      <th>saldoTcEntidad2</th>\n",
       "      <th>saldoTcEntidad3</th>\n",
       "      <th>saldoTcEntidad4</th>\n",
       "    </tr>\n",
       "  </thead>\n",
       "  <tbody>\n",
       "    <tr>\n",
       "      <th>0</th>\n",
       "      <td>24041</td>\n",
       "      <td>Rango2</td>\n",
       "      <td>Rango2</td>\n",
       "      <td>1</td>\n",
       "      <td>0</td>\n",
       "      <td>360.0</td>\n",
       "      <td>Rango1</td>\n",
       "      <td>Rango1</td>\n",
       "      <td>Rango1</td>\n",
       "      <td>1</td>\n",
       "      <td>NaN</td>\n",
       "      <td>NaN</td>\n",
       "      <td>NaN</td>\n",
       "      <td>NaN</td>\n",
       "    </tr>\n",
       "    <tr>\n",
       "      <th>1</th>\n",
       "      <td>9040</td>\n",
       "      <td>Rango4</td>\n",
       "      <td>Rango6</td>\n",
       "      <td>1</td>\n",
       "      <td>1</td>\n",
       "      <td>260.0</td>\n",
       "      <td>Rango1</td>\n",
       "      <td>Rango1</td>\n",
       "      <td>Rango1</td>\n",
       "      <td>1</td>\n",
       "      <td>Rango1</td>\n",
       "      <td>Rango1</td>\n",
       "      <td>Rango1</td>\n",
       "      <td>Rango1</td>\n",
       "    </tr>\n",
       "    <tr>\n",
       "      <th>2</th>\n",
       "      <td>18233</td>\n",
       "      <td>Rango2</td>\n",
       "      <td>Rango1</td>\n",
       "      <td>1</td>\n",
       "      <td>1</td>\n",
       "      <td>273.0</td>\n",
       "      <td>Rango1</td>\n",
       "      <td>Rango2</td>\n",
       "      <td>Rango1</td>\n",
       "      <td>1</td>\n",
       "      <td>Rango2</td>\n",
       "      <td>Rango1</td>\n",
       "      <td>Rango1</td>\n",
       "      <td>Rango1</td>\n",
       "    </tr>\n",
       "    <tr>\n",
       "      <th>3</th>\n",
       "      <td>7226</td>\n",
       "      <td>Rango5</td>\n",
       "      <td>Rango3</td>\n",
       "      <td>0</td>\n",
       "      <td>1</td>\n",
       "      <td>241.0</td>\n",
       "      <td>Rango1</td>\n",
       "      <td>Rango2</td>\n",
       "      <td>Rango1</td>\n",
       "      <td>1</td>\n",
       "      <td>Rango1</td>\n",
       "      <td>Rango2</td>\n",
       "      <td>Rango1</td>\n",
       "      <td>Rango2</td>\n",
       "    </tr>\n",
       "    <tr>\n",
       "      <th>4</th>\n",
       "      <td>21617</td>\n",
       "      <td>Rango3</td>\n",
       "      <td>Rango2</td>\n",
       "      <td>1</td>\n",
       "      <td>1</td>\n",
       "      <td>268.0</td>\n",
       "      <td>Rango1</td>\n",
       "      <td>Rango1</td>\n",
       "      <td>Rango1</td>\n",
       "      <td>0</td>\n",
       "      <td>NaN</td>\n",
       "      <td>NaN</td>\n",
       "      <td>NaN</td>\n",
       "      <td>NaN</td>\n",
       "    </tr>\n",
       "  </tbody>\n",
       "</table>\n",
       "</div>"
      ],
      "text/plain": [
       "   codCliente rangoEdad rangoIngreso  flagGenero  flagLimaProvCliente  \\\n",
       "0       24041    Rango2       Rango2           1                    0   \n",
       "1        9040    Rango4       Rango6           1                    1   \n",
       "2       18233    Rango2       Rango1           1                    1   \n",
       "3        7226    Rango5       Rango3           0                    1   \n",
       "4       21617    Rango3       Rango2           1                    1   \n",
       "\n",
       "   ubigeoCliente rangoCtdProdAct rangoCtdProdPas rangoCtdProdSeg  flagBxi  \\\n",
       "0          360.0          Rango1          Rango1          Rango1        1   \n",
       "1          260.0          Rango1          Rango1          Rango1        1   \n",
       "2          273.0          Rango1          Rango2          Rango1        1   \n",
       "3          241.0          Rango1          Rango2          Rango1        1   \n",
       "4          268.0          Rango1          Rango1          Rango1        0   \n",
       "\n",
       "  saldoTcEntidad1 saldoTcEntidad2 saldoTcEntidad3 saldoTcEntidad4  \n",
       "0             NaN             NaN             NaN             NaN  \n",
       "1          Rango1          Rango1          Rango1          Rango1  \n",
       "2          Rango2          Rango1          Rango1          Rango1  \n",
       "3          Rango1          Rango2          Rango1          Rango2  \n",
       "4             NaN             NaN             NaN             NaN  "
      ]
     },
     "execution_count": 7,
     "metadata": {},
     "output_type": "execute_result"
    }
   ],
   "source": [
    "info_clients.head()"
   ]
  },
  {
   "cell_type": "markdown",
   "metadata": {},
   "source": [
    "La tabla de clientes contiene información de la edad (rangoEdad), de los ingresos (rangoIngreso), del género al que pertenece (flagGenero), del lugar de procedencia, si es de afuera o no de Lima, (flagLimaProvCliente), del lugar en que se encuentra el cliente (ubigeoCliente), la cantidad de productos en activos (rangoCtdProdAct) en pasivos(rangoCtdProdPas), en seguros (rangoCtdProdSeg), si está suscrito a banca por internet (flagBxi), el saldo en crédito en cuatro diferentes entidades financieras (saldoTcEntidad)."
   ]
  },
  {
   "cell_type": "markdown",
   "metadata": {},
   "source": [
    "## Análisis de la variable a predecir"
   ]
  },
  {
   "cell_type": "code",
   "execution_count": 8,
   "metadata": {},
   "outputs": [
    {
     "data": {
      "image/png": "[encoded data removed]",
      "text/plain": [
       "<matplotlib.figure.Figure at 0x2ad71b68748>"
      ]
     },
     "metadata": {},
     "output_type": "display_data"
    }
   ],
   "source": [
    "plt.hist(transactions.ratingMonto)\n",
    "plt.title('Histograma de rating del monto')\n",
    "plt.xlabel('ratingMonto')\n",
    "plt.ylabel('Cantidad')\n",
    "plt.show()"
   ]
  },
  {
   "cell_type": "code",
   "execution_count": 9,
   "metadata": {},
   "outputs": [
    {
     "data": {
      "text/plain": [
       "count    1.591617e+06\n",
       "mean     1.318383e-02\n",
       "std      3.236438e-02\n",
       "min      2.984905e-06\n",
       "25%      1.598366e-03\n",
       "50%      4.199563e-03\n",
       "75%      1.152572e-02\n",
       "max      1.000000e+00\n",
       "Name: ratingMonto, dtype: float64"
      ]
     },
     "execution_count": 9,
     "metadata": {},
     "output_type": "execute_result"
    }
   ],
   "source": [
    "transactions.ratingMonto.describe()"
   ]
  },
  {
   "cell_type": "markdown",
   "metadata": {},
   "source": [
    "Se puede observar que la gran mayoría de los registros tienen un rating de 0.1. Estadísticamente, el conjunto de entrenamiento tiene el 75% de sus datos menor a 0.001152 en rating.\n",
    "\n",
    "Lo que llama la atención es que existe un registro donde el ratingMonto es 1. Averiguamos cual es este registro"
   ]
  },
  {
   "cell_type": "code",
   "execution_count": 10,
   "metadata": {},
   "outputs": [
    {
     "data": {
      "text/html": [
       "<div>\n",
       "<style>\n",
       "    .dataframe thead tr:only-child th {\n",
       "        text-align: right;\n",
       "    }\n",
       "\n",
       "    .dataframe thead th {\n",
       "        text-align: left;\n",
       "    }\n",
       "\n",
       "    .dataframe tbody tr th {\n",
       "        vertical-align: top;\n",
       "    }\n",
       "</style>\n",
       "<table border=\"1\" class=\"dataframe\">\n",
       "  <thead>\n",
       "    <tr style=\"text-align: right;\">\n",
       "      <th></th>\n",
       "      <th>fechaOper</th>\n",
       "      <th>codCliente</th>\n",
       "      <th>codGiro</th>\n",
       "      <th>codEstab</th>\n",
       "      <th>flagLimaProvEstab</th>\n",
       "      <th>ubigeoEstab</th>\n",
       "      <th>ctdTrx</th>\n",
       "      <th>ratingMonto</th>\n",
       "      <th>rangoEdad</th>\n",
       "      <th>rangoIngreso</th>\n",
       "      <th>...</th>\n",
       "      <th>flagLimaProvCliente</th>\n",
       "      <th>ubigeoCliente</th>\n",
       "      <th>rangoCtdProdAct</th>\n",
       "      <th>rangoCtdProdPas</th>\n",
       "      <th>rangoCtdProdSeg</th>\n",
       "      <th>flagBxi</th>\n",
       "      <th>saldoTcEntidad1</th>\n",
       "      <th>saldoTcEntidad2</th>\n",
       "      <th>saldoTcEntidad3</th>\n",
       "      <th>saldoTcEntidad4</th>\n",
       "    </tr>\n",
       "  </thead>\n",
       "  <tbody>\n",
       "    <tr>\n",
       "      <th>1395585</th>\n",
       "      <td>2017-07-25 00:00:00</td>\n",
       "      <td>802</td>\n",
       "      <td>114.0</td>\n",
       "      <td>17623</td>\n",
       "      <td>1</td>\n",
       "      <td>175.0</td>\n",
       "      <td>1</td>\n",
       "      <td>1.0</td>\n",
       "      <td>Rango6</td>\n",
       "      <td>Rango1</td>\n",
       "      <td>...</td>\n",
       "      <td>1</td>\n",
       "      <td>270.0</td>\n",
       "      <td>Rango1</td>\n",
       "      <td>Rango2</td>\n",
       "      <td>Rango1</td>\n",
       "      <td>1</td>\n",
       "      <td>Rango1</td>\n",
       "      <td>Rango1</td>\n",
       "      <td>Rango1</td>\n",
       "      <td>Rango1</td>\n",
       "    </tr>\n",
       "  </tbody>\n",
       "</table>\n",
       "<p>1 rows × 21 columns</p>\n",
       "</div>"
      ],
      "text/plain": [
       "                   fechaOper  codCliente  codGiro  codEstab  \\\n",
       "1395585  2017-07-25 00:00:00         802    114.0     17623   \n",
       "\n",
       "         flagLimaProvEstab  ubigeoEstab  ctdTrx  ratingMonto rangoEdad  \\\n",
       "1395585                  1        175.0       1          1.0    Rango6   \n",
       "\n",
       "        rangoIngreso       ...        flagLimaProvCliente  ubigeoCliente  \\\n",
       "1395585       Rango1       ...                          1          270.0   \n",
       "\n",
       "         rangoCtdProdAct rangoCtdProdPas rangoCtdProdSeg flagBxi  \\\n",
       "1395585           Rango1          Rango2          Rango1       1   \n",
       "\n",
       "         saldoTcEntidad1 saldoTcEntidad2 saldoTcEntidad3 saldoTcEntidad4  \n",
       "1395585           Rango1          Rango1          Rango1          Rango1  \n",
       "\n",
       "[1 rows x 21 columns]"
      ]
     },
     "execution_count": 10,
     "metadata": {},
     "output_type": "execute_result"
    }
   ],
   "source": [
    "transactions[transactions.ratingMonto == 1]"
   ]
  },
  {
   "cell_type": "markdown",
   "metadata": {},
   "source": [
    "El registro pertenece al cliente con el código 802. Hay que preguntarse si el cliente ha realizado a otras transacciones"
   ]
  },
  {
   "cell_type": "code",
   "execution_count": 11,
   "metadata": {},
   "outputs": [
    {
     "data": {
      "text/html": [
       "<div>\n",
       "<style>\n",
       "    .dataframe thead tr:only-child th {\n",
       "        text-align: right;\n",
       "    }\n",
       "\n",
       "    .dataframe thead th {\n",
       "        text-align: left;\n",
       "    }\n",
       "\n",
       "    .dataframe tbody tr th {\n",
       "        vertical-align: top;\n",
       "    }\n",
       "</style>\n",
       "<table border=\"1\" class=\"dataframe\">\n",
       "  <thead>\n",
       "    <tr style=\"text-align: right;\">\n",
       "      <th></th>\n",
       "      <th>fechaOper</th>\n",
       "      <th>codCliente</th>\n",
       "      <th>codGiro</th>\n",
       "      <th>codEstab</th>\n",
       "      <th>flagLimaProvEstab</th>\n",
       "      <th>ubigeoEstab</th>\n",
       "      <th>ctdTrx</th>\n",
       "      <th>ratingMonto</th>\n",
       "      <th>rangoEdad</th>\n",
       "      <th>rangoIngreso</th>\n",
       "      <th>...</th>\n",
       "      <th>flagLimaProvCliente</th>\n",
       "      <th>ubigeoCliente</th>\n",
       "      <th>rangoCtdProdAct</th>\n",
       "      <th>rangoCtdProdPas</th>\n",
       "      <th>rangoCtdProdSeg</th>\n",
       "      <th>flagBxi</th>\n",
       "      <th>saldoTcEntidad1</th>\n",
       "      <th>saldoTcEntidad2</th>\n",
       "      <th>saldoTcEntidad3</th>\n",
       "      <th>saldoTcEntidad4</th>\n",
       "    </tr>\n",
       "  </thead>\n",
       "  <tbody>\n",
       "    <tr>\n",
       "      <th>1395585</th>\n",
       "      <td>2017-07-25 00:00:00</td>\n",
       "      <td>802</td>\n",
       "      <td>114.0</td>\n",
       "      <td>17623</td>\n",
       "      <td>1</td>\n",
       "      <td>175.0</td>\n",
       "      <td>1</td>\n",
       "      <td>1.0</td>\n",
       "      <td>Rango6</td>\n",
       "      <td>Rango1</td>\n",
       "      <td>...</td>\n",
       "      <td>1</td>\n",
       "      <td>270.0</td>\n",
       "      <td>Rango1</td>\n",
       "      <td>Rango2</td>\n",
       "      <td>Rango1</td>\n",
       "      <td>1</td>\n",
       "      <td>Rango1</td>\n",
       "      <td>Rango1</td>\n",
       "      <td>Rango1</td>\n",
       "      <td>Rango1</td>\n",
       "    </tr>\n",
       "  </tbody>\n",
       "</table>\n",
       "<p>1 rows × 21 columns</p>\n",
       "</div>"
      ],
      "text/plain": [
       "                   fechaOper  codCliente  codGiro  codEstab  \\\n",
       "1395585  2017-07-25 00:00:00         802    114.0     17623   \n",
       "\n",
       "         flagLimaProvEstab  ubigeoEstab  ctdTrx  ratingMonto rangoEdad  \\\n",
       "1395585                  1        175.0       1          1.0    Rango6   \n",
       "\n",
       "        rangoIngreso       ...        flagLimaProvCliente  ubigeoCliente  \\\n",
       "1395585       Rango1       ...                          1          270.0   \n",
       "\n",
       "         rangoCtdProdAct rangoCtdProdPas rangoCtdProdSeg flagBxi  \\\n",
       "1395585           Rango1          Rango2          Rango1       1   \n",
       "\n",
       "         saldoTcEntidad1 saldoTcEntidad2 saldoTcEntidad3 saldoTcEntidad4  \n",
       "1395585           Rango1          Rango1          Rango1          Rango1  \n",
       "\n",
       "[1 rows x 21 columns]"
      ]
     },
     "execution_count": 11,
     "metadata": {},
     "output_type": "execute_result"
    }
   ],
   "source": [
    "transactions[transactions.codCliente == 802]"
   ]
  },
  {
   "cell_type": "markdown",
   "metadata": {},
   "source": [
    "El Cliente no ha realizado ninguna otra transacción a parte de la realizada el 25 de febrero de 2017. Al parecer el cliente solamente ha utilizado una vez su tarjeta. Por este hecho el rating monto es 1, ya que el cliente ha realizado todas sus transacciones en un solo establecimiento.\n",
    "\n",
    "Ahora se analiza las transacciones que tienen un ratingMonto mayor a 0.95"
   ]
  },
  {
   "cell_type": "code",
   "execution_count": 12,
   "metadata": {},
   "outputs": [
    {
     "data": {
      "text/html": [
       "<div>\n",
       "<style>\n",
       "    .dataframe thead tr:only-child th {\n",
       "        text-align: right;\n",
       "    }\n",
       "\n",
       "    .dataframe thead th {\n",
       "        text-align: left;\n",
       "    }\n",
       "\n",
       "    .dataframe tbody tr th {\n",
       "        vertical-align: top;\n",
       "    }\n",
       "</style>\n",
       "<table border=\"1\" class=\"dataframe\">\n",
       "  <thead>\n",
       "    <tr style=\"text-align: right;\">\n",
       "      <th></th>\n",
       "      <th>fechaOper</th>\n",
       "      <th>codCliente</th>\n",
       "      <th>codGiro</th>\n",
       "      <th>codEstab</th>\n",
       "      <th>flagLimaProvEstab</th>\n",
       "      <th>ubigeoEstab</th>\n",
       "      <th>ctdTrx</th>\n",
       "      <th>ratingMonto</th>\n",
       "      <th>rangoEdad</th>\n",
       "      <th>rangoIngreso</th>\n",
       "      <th>...</th>\n",
       "      <th>flagLimaProvCliente</th>\n",
       "      <th>ubigeoCliente</th>\n",
       "      <th>rangoCtdProdAct</th>\n",
       "      <th>rangoCtdProdPas</th>\n",
       "      <th>rangoCtdProdSeg</th>\n",
       "      <th>flagBxi</th>\n",
       "      <th>saldoTcEntidad1</th>\n",
       "      <th>saldoTcEntidad2</th>\n",
       "      <th>saldoTcEntidad3</th>\n",
       "      <th>saldoTcEntidad4</th>\n",
       "    </tr>\n",
       "  </thead>\n",
       "  <tbody>\n",
       "    <tr>\n",
       "      <th>342992</th>\n",
       "      <td>2017-06-22 00:00:00</td>\n",
       "      <td>6559</td>\n",
       "      <td>105.0</td>\n",
       "      <td>36</td>\n",
       "      <td>1</td>\n",
       "      <td>157.0</td>\n",
       "      <td>3</td>\n",
       "      <td>0.976620</td>\n",
       "      <td>Rango6</td>\n",
       "      <td>Rango4</td>\n",
       "      <td>...</td>\n",
       "      <td>1</td>\n",
       "      <td>278.0</td>\n",
       "      <td>Rango1</td>\n",
       "      <td>Rango2</td>\n",
       "      <td>Rango2</td>\n",
       "      <td>1</td>\n",
       "      <td>Rango1</td>\n",
       "      <td>Rango1</td>\n",
       "      <td>Rango1</td>\n",
       "      <td>Rango1</td>\n",
       "    </tr>\n",
       "    <tr>\n",
       "      <th>657565</th>\n",
       "      <td>2017-04-06 00:00:00</td>\n",
       "      <td>7584</td>\n",
       "      <td>54.0</td>\n",
       "      <td>6454</td>\n",
       "      <td>0</td>\n",
       "      <td>43.0</td>\n",
       "      <td>2</td>\n",
       "      <td>0.972995</td>\n",
       "      <td>Rango5</td>\n",
       "      <td>Rango2</td>\n",
       "      <td>...</td>\n",
       "      <td>0</td>\n",
       "      <td>145.0</td>\n",
       "      <td>Rango1</td>\n",
       "      <td>Rango1</td>\n",
       "      <td>Rango1</td>\n",
       "      <td>0</td>\n",
       "      <td>Rango1</td>\n",
       "      <td>Rango1</td>\n",
       "      <td>Rango1</td>\n",
       "      <td>Rango1</td>\n",
       "    </tr>\n",
       "    <tr>\n",
       "      <th>741159</th>\n",
       "      <td>2017-06-23 00:00:00</td>\n",
       "      <td>24720</td>\n",
       "      <td>225.0</td>\n",
       "      <td>6704</td>\n",
       "      <td>1</td>\n",
       "      <td>143.0</td>\n",
       "      <td>1</td>\n",
       "      <td>0.951159</td>\n",
       "      <td>Rango5</td>\n",
       "      <td>Rango1</td>\n",
       "      <td>...</td>\n",
       "      <td>1</td>\n",
       "      <td>283.0</td>\n",
       "      <td>Rango1</td>\n",
       "      <td>Rango1</td>\n",
       "      <td>Rango1</td>\n",
       "      <td>1</td>\n",
       "      <td>Rango1</td>\n",
       "      <td>Rango1</td>\n",
       "      <td>Rango1</td>\n",
       "      <td>Rango1</td>\n",
       "    </tr>\n",
       "    <tr>\n",
       "      <th>1395585</th>\n",
       "      <td>2017-07-25 00:00:00</td>\n",
       "      <td>802</td>\n",
       "      <td>114.0</td>\n",
       "      <td>17623</td>\n",
       "      <td>1</td>\n",
       "      <td>175.0</td>\n",
       "      <td>1</td>\n",
       "      <td>1.000000</td>\n",
       "      <td>Rango6</td>\n",
       "      <td>Rango1</td>\n",
       "      <td>...</td>\n",
       "      <td>1</td>\n",
       "      <td>270.0</td>\n",
       "      <td>Rango1</td>\n",
       "      <td>Rango2</td>\n",
       "      <td>Rango1</td>\n",
       "      <td>1</td>\n",
       "      <td>Rango1</td>\n",
       "      <td>Rango1</td>\n",
       "      <td>Rango1</td>\n",
       "      <td>Rango1</td>\n",
       "    </tr>\n",
       "  </tbody>\n",
       "</table>\n",
       "<p>4 rows × 21 columns</p>\n",
       "</div>"
      ],
      "text/plain": [
       "                   fechaOper  codCliente  codGiro  codEstab  \\\n",
       "342992   2017-06-22 00:00:00        6559    105.0        36   \n",
       "657565   2017-04-06 00:00:00        7584     54.0      6454   \n",
       "741159   2017-06-23 00:00:00       24720    225.0      6704   \n",
       "1395585  2017-07-25 00:00:00         802    114.0     17623   \n",
       "\n",
       "         flagLimaProvEstab  ubigeoEstab  ctdTrx  ratingMonto rangoEdad  \\\n",
       "342992                   1        157.0       3     0.976620    Rango6   \n",
       "657565                   0         43.0       2     0.972995    Rango5   \n",
       "741159                   1        143.0       1     0.951159    Rango5   \n",
       "1395585                  1        175.0       1     1.000000    Rango6   \n",
       "\n",
       "        rangoIngreso       ...        flagLimaProvCliente  ubigeoCliente  \\\n",
       "342992        Rango4       ...                          1          278.0   \n",
       "657565        Rango2       ...                          0          145.0   \n",
       "741159        Rango1       ...                          1          283.0   \n",
       "1395585       Rango1       ...                          1          270.0   \n",
       "\n",
       "         rangoCtdProdAct rangoCtdProdPas rangoCtdProdSeg flagBxi  \\\n",
       "342992            Rango1          Rango2          Rango2       1   \n",
       "657565            Rango1          Rango1          Rango1       0   \n",
       "741159            Rango1          Rango1          Rango1       1   \n",
       "1395585           Rango1          Rango2          Rango1       1   \n",
       "\n",
       "         saldoTcEntidad1 saldoTcEntidad2 saldoTcEntidad3 saldoTcEntidad4  \n",
       "342992            Rango1          Rango1          Rango1          Rango1  \n",
       "657565            Rango1          Rango1          Rango1          Rango1  \n",
       "741159            Rango1          Rango1          Rango1          Rango1  \n",
       "1395585           Rango1          Rango1          Rango1          Rango1  \n",
       "\n",
       "[4 rows x 21 columns]"
      ]
     },
     "execution_count": 12,
     "metadata": {},
     "output_type": "execute_result"
    }
   ],
   "source": [
    "transactions[transactions.ratingMonto > 0.95].head()"
   ]
  },
  {
   "cell_type": "markdown",
   "metadata": {},
   "source": [
    "Por ejemplo el cliente con el codigo 6559 realizó tres transacciones (ctdTrx) el 22 de Junio (fechaOper) en el establecimiento 36 (codEstab), por lo que obuvo un rating de 0.9766. Esto quiere decir que el 97.66% de lo gastado en ese año mediante su tarjeta lo hizo en la fecha mencionada. Para verificar analizamos las otras transacciones de dicho cliente."
   ]
  },
  {
   "cell_type": "code",
   "execution_count": 13,
   "metadata": {},
   "outputs": [
    {
     "data": {
      "text/html": [
       "<div>\n",
       "<style>\n",
       "    .dataframe thead tr:only-child th {\n",
       "        text-align: right;\n",
       "    }\n",
       "\n",
       "    .dataframe thead th {\n",
       "        text-align: left;\n",
       "    }\n",
       "\n",
       "    .dataframe tbody tr th {\n",
       "        vertical-align: top;\n",
       "    }\n",
       "</style>\n",
       "<table border=\"1\" class=\"dataframe\">\n",
       "  <thead>\n",
       "    <tr style=\"text-align: right;\">\n",
       "      <th></th>\n",
       "      <th>fechaOper</th>\n",
       "      <th>codCliente</th>\n",
       "      <th>codGiro</th>\n",
       "      <th>codEstab</th>\n",
       "      <th>flagLimaProvEstab</th>\n",
       "      <th>ubigeoEstab</th>\n",
       "      <th>ctdTrx</th>\n",
       "      <th>ratingMonto</th>\n",
       "      <th>rangoEdad</th>\n",
       "      <th>rangoIngreso</th>\n",
       "      <th>...</th>\n",
       "      <th>flagLimaProvCliente</th>\n",
       "      <th>ubigeoCliente</th>\n",
       "      <th>rangoCtdProdAct</th>\n",
       "      <th>rangoCtdProdPas</th>\n",
       "      <th>rangoCtdProdSeg</th>\n",
       "      <th>flagBxi</th>\n",
       "      <th>saldoTcEntidad1</th>\n",
       "      <th>saldoTcEntidad2</th>\n",
       "      <th>saldoTcEntidad3</th>\n",
       "      <th>saldoTcEntidad4</th>\n",
       "    </tr>\n",
       "  </thead>\n",
       "  <tbody>\n",
       "    <tr>\n",
       "      <th>123619</th>\n",
       "      <td>2017-09-08 00:00:00</td>\n",
       "      <td>6559</td>\n",
       "      <td>135.0</td>\n",
       "      <td>24551</td>\n",
       "      <td>1</td>\n",
       "      <td>157.0</td>\n",
       "      <td>1</td>\n",
       "      <td>0.001783</td>\n",
       "      <td>Rango6</td>\n",
       "      <td>Rango4</td>\n",
       "      <td>...</td>\n",
       "      <td>1</td>\n",
       "      <td>278.0</td>\n",
       "      <td>Rango1</td>\n",
       "      <td>Rango2</td>\n",
       "      <td>Rango2</td>\n",
       "      <td>1</td>\n",
       "      <td>Rango1</td>\n",
       "      <td>Rango1</td>\n",
       "      <td>Rango1</td>\n",
       "      <td>Rango1</td>\n",
       "    </tr>\n",
       "    <tr>\n",
       "      <th>342992</th>\n",
       "      <td>2017-06-22 00:00:00</td>\n",
       "      <td>6559</td>\n",
       "      <td>105.0</td>\n",
       "      <td>36</td>\n",
       "      <td>1</td>\n",
       "      <td>157.0</td>\n",
       "      <td>3</td>\n",
       "      <td>0.976620</td>\n",
       "      <td>Rango6</td>\n",
       "      <td>Rango4</td>\n",
       "      <td>...</td>\n",
       "      <td>1</td>\n",
       "      <td>278.0</td>\n",
       "      <td>Rango1</td>\n",
       "      <td>Rango2</td>\n",
       "      <td>Rango2</td>\n",
       "      <td>1</td>\n",
       "      <td>Rango1</td>\n",
       "      <td>Rango1</td>\n",
       "      <td>Rango1</td>\n",
       "      <td>Rango1</td>\n",
       "    </tr>\n",
       "    <tr>\n",
       "      <th>1141197</th>\n",
       "      <td>2017-02-06 00:00:00</td>\n",
       "      <td>6559</td>\n",
       "      <td>75.0</td>\n",
       "      <td>830</td>\n",
       "      <td>1</td>\n",
       "      <td>157.0</td>\n",
       "      <td>1</td>\n",
       "      <td>0.016247</td>\n",
       "      <td>Rango6</td>\n",
       "      <td>Rango4</td>\n",
       "      <td>...</td>\n",
       "      <td>1</td>\n",
       "      <td>278.0</td>\n",
       "      <td>Rango1</td>\n",
       "      <td>Rango2</td>\n",
       "      <td>Rango2</td>\n",
       "      <td>1</td>\n",
       "      <td>Rango1</td>\n",
       "      <td>Rango1</td>\n",
       "      <td>Rango1</td>\n",
       "      <td>Rango1</td>\n",
       "    </tr>\n",
       "    <tr>\n",
       "      <th>1227817</th>\n",
       "      <td>2017-08-08 00:00:00</td>\n",
       "      <td>6559</td>\n",
       "      <td>135.0</td>\n",
       "      <td>24544</td>\n",
       "      <td>1</td>\n",
       "      <td>157.0</td>\n",
       "      <td>1</td>\n",
       "      <td>0.001783</td>\n",
       "      <td>Rango6</td>\n",
       "      <td>Rango4</td>\n",
       "      <td>...</td>\n",
       "      <td>1</td>\n",
       "      <td>278.0</td>\n",
       "      <td>Rango1</td>\n",
       "      <td>Rango2</td>\n",
       "      <td>Rango2</td>\n",
       "      <td>1</td>\n",
       "      <td>Rango1</td>\n",
       "      <td>Rango1</td>\n",
       "      <td>Rango1</td>\n",
       "      <td>Rango1</td>\n",
       "    </tr>\n",
       "    <tr>\n",
       "      <th>1331865</th>\n",
       "      <td>2017-10-17 00:00:00</td>\n",
       "      <td>6559</td>\n",
       "      <td>135.0</td>\n",
       "      <td>24551</td>\n",
       "      <td>1</td>\n",
       "      <td>157.0</td>\n",
       "      <td>1</td>\n",
       "      <td>0.001783</td>\n",
       "      <td>Rango6</td>\n",
       "      <td>Rango4</td>\n",
       "      <td>...</td>\n",
       "      <td>1</td>\n",
       "      <td>278.0</td>\n",
       "      <td>Rango1</td>\n",
       "      <td>Rango2</td>\n",
       "      <td>Rango2</td>\n",
       "      <td>1</td>\n",
       "      <td>Rango1</td>\n",
       "      <td>Rango1</td>\n",
       "      <td>Rango1</td>\n",
       "      <td>Rango1</td>\n",
       "    </tr>\n",
       "  </tbody>\n",
       "</table>\n",
       "<p>5 rows × 21 columns</p>\n",
       "</div>"
      ],
      "text/plain": [
       "                   fechaOper  codCliente  codGiro  codEstab  \\\n",
       "123619   2017-09-08 00:00:00        6559    135.0     24551   \n",
       "342992   2017-06-22 00:00:00        6559    105.0        36   \n",
       "1141197  2017-02-06 00:00:00        6559     75.0       830   \n",
       "1227817  2017-08-08 00:00:00        6559    135.0     24544   \n",
       "1331865  2017-10-17 00:00:00        6559    135.0     24551   \n",
       "\n",
       "         flagLimaProvEstab  ubigeoEstab  ctdTrx  ratingMonto rangoEdad  \\\n",
       "123619                   1        157.0       1     0.001783    Rango6   \n",
       "342992                   1        157.0       3     0.976620    Rango6   \n",
       "1141197                  1        157.0       1     0.016247    Rango6   \n",
       "1227817                  1        157.0       1     0.001783    Rango6   \n",
       "1331865                  1        157.0       1     0.001783    Rango6   \n",
       "\n",
       "        rangoIngreso       ...        flagLimaProvCliente  ubigeoCliente  \\\n",
       "123619        Rango4       ...                          1          278.0   \n",
       "342992        Rango4       ...                          1          278.0   \n",
       "1141197       Rango4       ...                          1          278.0   \n",
       "1227817       Rango4       ...                          1          278.0   \n",
       "1331865       Rango4       ...                          1          278.0   \n",
       "\n",
       "         rangoCtdProdAct rangoCtdProdPas rangoCtdProdSeg flagBxi  \\\n",
       "123619            Rango1          Rango2          Rango2       1   \n",
       "342992            Rango1          Rango2          Rango2       1   \n",
       "1141197           Rango1          Rango2          Rango2       1   \n",
       "1227817           Rango1          Rango2          Rango2       1   \n",
       "1331865           Rango1          Rango2          Rango2       1   \n",
       "\n",
       "         saldoTcEntidad1 saldoTcEntidad2 saldoTcEntidad3 saldoTcEntidad4  \n",
       "123619            Rango1          Rango1          Rango1          Rango1  \n",
       "342992            Rango1          Rango1          Rango1          Rango1  \n",
       "1141197           Rango1          Rango1          Rango1          Rango1  \n",
       "1227817           Rango1          Rango1          Rango1          Rango1  \n",
       "1331865           Rango1          Rango1          Rango1          Rango1  \n",
       "\n",
       "[5 rows x 21 columns]"
      ]
     },
     "execution_count": 13,
     "metadata": {},
     "output_type": "execute_result"
    }
   ],
   "source": [
    "transactions[transactions.codCliente == 6559]"
   ]
  },
  {
   "cell_type": "markdown",
   "metadata": {},
   "source": [
    "En el conjunto de datos, el cliente 6559 tiene 5 días registrados. En dichos registros, el que mayor ratingMonto tiene es el que tiene mayor cantidad de transacciones (ctdTrx). Los demás registros tienen un ratingMonto más bajo.\n",
    "\n",
    "Se analiza la relación entre la cantidad de transacciones y el ratingMonto."
   ]
  },
  {
   "cell_type": "code",
   "execution_count": 25,
   "metadata": {},
   "outputs": [
    {
     "data": {
      "image/png": "[encoded data removed]",
      "text/plain": [
       "<matplotlib.figure.Figure at 0x2ad0c021f60>"
      ]
     },
     "metadata": {},
     "output_type": "display_data"
    }
   ],
   "source": [
    "plt.scatter(transactions.ratingMonto,transactions.ctdTrx,2)\n",
    "plt.title(\"Relación de rating Monto con la cantida de transacciones\")\n",
    "plt.xlabel(\"Rating\")\n",
    "plt.ylabel(\"Cantidad de transacciones\")\n",
    "plt.show()"
   ]
  },
  {
   "cell_type": "markdown",
   "metadata": {},
   "source": [
    "Según el gráfico a mayor cantidad de transacciones mayor la probabilidad que tenga un ratingMonto menor. En cambio a menor cantidad de transacciones mayor la probabilidad de tener un ratingMonto mayor."
   ]
  },
  {
   "cell_type": "markdown",
   "metadata": {},
   "source": [
    "## Análisis de la cantidad de transacciones realizadas por el cliente"
   ]
  },
  {
   "cell_type": "markdown",
   "metadata": {},
   "source": [
    "Se analiza la cantidad total de transacciones que ha realizado un cliente"
   ]
  },
  {
   "cell_type": "code",
   "execution_count": 37,
   "metadata": {},
   "outputs": [
    {
     "data": {
      "text/html": [
       "<div>\n",
       "<style>\n",
       "    .dataframe thead tr:only-child th {\n",
       "        text-align: right;\n",
       "    }\n",
       "\n",
       "    .dataframe thead th {\n",
       "        text-align: left;\n",
       "    }\n",
       "\n",
       "    .dataframe tbody tr th {\n",
       "        vertical-align: top;\n",
       "    }\n",
       "</style>\n",
       "<table border=\"1\" class=\"dataframe\">\n",
       "  <thead>\n",
       "    <tr style=\"text-align: right;\">\n",
       "      <th></th>\n",
       "      <th>totCliTrx</th>\n",
       "      <th>ratingMonto</th>\n",
       "    </tr>\n",
       "  </thead>\n",
       "  <tbody>\n",
       "    <tr>\n",
       "      <th>totCliTrx</th>\n",
       "      <td>1.000000</td>\n",
       "      <td>-0.265364</td>\n",
       "    </tr>\n",
       "    <tr>\n",
       "      <th>ratingMonto</th>\n",
       "      <td>-0.265364</td>\n",
       "      <td>1.000000</td>\n",
       "    </tr>\n",
       "  </tbody>\n",
       "</table>\n",
       "</div>"
      ],
      "text/plain": [
       "             totCliTrx  ratingMonto\n",
       "totCliTrx     1.000000    -0.265364\n",
       "ratingMonto  -0.265364     1.000000"
      ]
     },
     "execution_count": 37,
     "metadata": {},
     "output_type": "execute_result"
    }
   ],
   "source": [
    "tblSimple = transactions[['codCliente','ctdTrx']]\n",
    "usoCliente = tblSimple.groupby('codCliente', as_index = False).sum()\n",
    "usoCliente.rename(columns={'ctdTrx':'totCliTrx'}, inplace = True)\n",
    "transactions_totclitrx = pd.merge(transactions,usoCliente, on = 'codCliente', how='left')\n",
    "transactions_totclitrx[['totCliTrx','ratingMonto']].corr()"
   ]
  },
  {
   "cell_type": "markdown",
   "metadata": {},
   "source": [
    "La cantidad total de transacciones que ha realizado el cliente tiene una relación negativa con el ratingMonto."
   ]
  },
  {
   "cell_type": "code",
   "execution_count": 40,
   "metadata": {},
   "outputs": [
    {
     "data": {
      "image/png": "[encoded data removed]",
      "text/plain": [
       "<matplotlib.figure.Figure at 0x2ad0c35c748>"
      ]
     },
     "metadata": {},
     "output_type": "display_data"
    }
   ],
   "source": [
    "plt.scatter(transactions_totclitrx.ratingMonto,transactions_totclitrx.totCliTrx,2)\n",
    "plt.title(\"Relación del la cantidad total de transacciones con el rating Monto\")\n",
    "plt.xlabel(\"Rating\")\n",
    "plt.ylabel(\"Cantidad de transacciones\")\n",
    "plt.show()"
   ]
  },
  {
   "cell_type": "markdown",
   "metadata": {},
   "source": [
    "## Análisis de la cantidad de transacciones realizadas por establecimiento"
   ]
  },
  {
   "cell_type": "code",
   "execution_count": 41,
   "metadata": {},
   "outputs": [
    {
     "data": {
      "text/html": [
       "<div>\n",
       "<style>\n",
       "    .dataframe thead tr:only-child th {\n",
       "        text-align: right;\n",
       "    }\n",
       "\n",
       "    .dataframe thead th {\n",
       "        text-align: left;\n",
       "    }\n",
       "\n",
       "    .dataframe tbody tr th {\n",
       "        vertical-align: top;\n",
       "    }\n",
       "</style>\n",
       "<table border=\"1\" class=\"dataframe\">\n",
       "  <thead>\n",
       "    <tr style=\"text-align: right;\">\n",
       "      <th></th>\n",
       "      <th>totEstabTrx</th>\n",
       "      <th>ratingMonto</th>\n",
       "    </tr>\n",
       "  </thead>\n",
       "  <tbody>\n",
       "    <tr>\n",
       "      <th>totEstabTrx</th>\n",
       "      <td>1.000000</td>\n",
       "      <td>-0.027619</td>\n",
       "    </tr>\n",
       "    <tr>\n",
       "      <th>ratingMonto</th>\n",
       "      <td>-0.027619</td>\n",
       "      <td>1.000000</td>\n",
       "    </tr>\n",
       "  </tbody>\n",
       "</table>\n",
       "</div>"
      ],
      "text/plain": [
       "             totEstabTrx  ratingMonto\n",
       "totEstabTrx     1.000000    -0.027619\n",
       "ratingMonto    -0.027619     1.000000"
      ]
     },
     "execution_count": 41,
     "metadata": {},
     "output_type": "execute_result"
    }
   ],
   "source": [
    "tblSimple = transactions[['codEstab','ctdTrx']]\n",
    "usoEstab = tblSimple.groupby('codEstab', as_index = False).sum()\n",
    "usoEstab.rename(columns={'ctdTrx':'totEstabTrx'}, inplace = True)\n",
    "transactions_v2 = pd.merge(transactions_totclitrx,usoEstab, on = 'codEstab', how='left')\n",
    "transactions_v2[['totEstabTrx','ratingMonto']].corr()"
   ]
  },
  {
   "cell_type": "markdown",
   "metadata": {},
   "source": [
    "No existe una relación entre el ratingMonto y la cantidad total de transacciones hechas en un establecimiento"
   ]
  },
  {
   "cell_type": "code",
   "execution_count": 43,
   "metadata": {},
   "outputs": [
    {
     "data": {
      "image/png": "[encoded data removed]",
      "text/plain": [
       "<matplotlib.figure.Figure at 0x2ad0c9b9550>"
      ]
     },
     "metadata": {},
     "output_type": "display_data"
    }
   ],
   "source": [
    "plt.scatter(transactions_v2.ratingMonto,transactions_v2.totEstabTrx,2)\n",
    "plt.title(\"Relación del uso de tarjeta en establecimientos con el rating Monto\")\n",
    "plt.xlabel(\"Rating\")\n",
    "plt.ylabel(\"Cantidad de transacciones\")\n",
    "plt.show()"
   ]
  },
  {
   "cell_type": "markdown",
   "metadata": {},
   "source": [
    "## Análisis de la relación entre los clientes y el establecimiento"
   ]
  },
  {
   "cell_type": "code",
   "execution_count": 44,
   "metadata": {},
   "outputs": [
    {
     "data": {
      "text/html": [
       "<div>\n",
       "<style>\n",
       "    .dataframe thead tr:only-child th {\n",
       "        text-align: right;\n",
       "    }\n",
       "\n",
       "    .dataframe thead th {\n",
       "        text-align: left;\n",
       "    }\n",
       "\n",
       "    .dataframe tbody tr th {\n",
       "        vertical-align: top;\n",
       "    }\n",
       "</style>\n",
       "<table border=\"1\" class=\"dataframe\">\n",
       "  <thead>\n",
       "    <tr style=\"text-align: right;\">\n",
       "      <th></th>\n",
       "      <th>totCliTrx</th>\n",
       "      <th>totEstabTrx</th>\n",
       "      <th>prodCliEstab</th>\n",
       "      <th>ratingMonto</th>\n",
       "    </tr>\n",
       "  </thead>\n",
       "  <tbody>\n",
       "    <tr>\n",
       "      <th>totCliTrx</th>\n",
       "      <td>1.000000</td>\n",
       "      <td>0.057582</td>\n",
       "      <td>0.349938</td>\n",
       "      <td>-0.265364</td>\n",
       "    </tr>\n",
       "    <tr>\n",
       "      <th>totEstabTrx</th>\n",
       "      <td>0.057582</td>\n",
       "      <td>1.000000</td>\n",
       "      <td>0.674479</td>\n",
       "      <td>-0.027619</td>\n",
       "    </tr>\n",
       "    <tr>\n",
       "      <th>prodCliEstab</th>\n",
       "      <td>0.349938</td>\n",
       "      <td>0.674479</td>\n",
       "      <td>1.000000</td>\n",
       "      <td>-0.079143</td>\n",
       "    </tr>\n",
       "    <tr>\n",
       "      <th>ratingMonto</th>\n",
       "      <td>-0.265364</td>\n",
       "      <td>-0.027619</td>\n",
       "      <td>-0.079143</td>\n",
       "      <td>1.000000</td>\n",
       "    </tr>\n",
       "  </tbody>\n",
       "</table>\n",
       "</div>"
      ],
      "text/plain": [
       "              totCliTrx  totEstabTrx  prodCliEstab  ratingMonto\n",
       "totCliTrx      1.000000     0.057582      0.349938    -0.265364\n",
       "totEstabTrx    0.057582     1.000000      0.674479    -0.027619\n",
       "prodCliEstab   0.349938     0.674479      1.000000    -0.079143\n",
       "ratingMonto   -0.265364    -0.027619     -0.079143     1.000000"
      ]
     },
     "execution_count": 44,
     "metadata": {},
     "output_type": "execute_result"
    }
   ],
   "source": [
    "transactions_v2['prodCliEstab'] = transactions_v2.totCliTrx * transactions_v2.totEstabTrx\n",
    "transactions_v2[['totCliTrx','totEstabTrx','prodCliEstab','ratingMonto']].corr()"
   ]
  },
  {
   "cell_type": "markdown",
   "metadata": {},
   "source": [
    "El producto entre el total de las transacciones por el cliente con la cantidad total de transacciones realizadas en los establecimiento no tiene relación con el rating monto."
   ]
  },
  {
   "cell_type": "markdown",
   "metadata": {},
   "source": [
    "## Preparación de los datos"
   ]
  },
  {
   "cell_type": "markdown",
   "metadata": {},
   "source": [
    "## Adquisición de la tabla de establecimientos"
   ]
  },
  {
   "cell_type": "code",
   "execution_count": 51,
   "metadata": {},
   "outputs": [],
   "source": [
    "def graph_bars(df,titulo,codigo,agg):\n",
    "    cols_group = [codigo,agg]\n",
    "    values = df[cols_group].groupby(codigo, as_index = False).sum()\n",
    "    index = np.arange(values.shape[0])\n",
    "    plt.bar(index, values[agg])\n",
    "    plt.xticks(index, values[codigo])\n",
    "    plt.title(titulo)\n",
    "    plt.show()"
   ]
  },
  {
   "cell_type": "code",
   "execution_count": 77,
   "metadata": {},
   "outputs": [],
   "source": [
    "def graph_bars_count(df,titulo,codigo,agg):\n",
    "    cols_group = [codigo,agg]\n",
    "    values = df[cols_group].groupby(codigo, as_index = False).count()\n",
    "    index = np.arange(values.shape[0])\n",
    "    plt.bar(index, values[agg])\n",
    "    plt.xticks(index, values[codigo])\n",
    "    plt.title(titulo)\n",
    "    plt.show()"
   ]
  },
  {
   "cell_type": "code",
   "execution_count": 107,
   "metadata": {},
   "outputs": [
    {
     "data": {
      "text/html": [
       "<div>\n",
       "<style>\n",
       "    .dataframe thead tr:only-child th {\n",
       "        text-align: right;\n",
       "    }\n",
       "\n",
       "    .dataframe thead th {\n",
       "        text-align: left;\n",
       "    }\n",
       "\n",
       "    .dataframe tbody tr th {\n",
       "        vertical-align: top;\n",
       "    }\n",
       "</style>\n",
       "<table border=\"1\" class=\"dataframe\">\n",
       "  <thead>\n",
       "    <tr style=\"text-align: right;\">\n",
       "      <th></th>\n",
       "      <th>codEstab</th>\n",
       "      <th>codGiro</th>\n",
       "      <th>ubigeoEstab</th>\n",
       "      <th>flagLimaProvEstab</th>\n",
       "    </tr>\n",
       "  </thead>\n",
       "  <tbody>\n",
       "    <tr>\n",
       "      <th>0</th>\n",
       "      <td>43629</td>\n",
       "      <td>138.0</td>\n",
       "      <td>176.0</td>\n",
       "      <td>1</td>\n",
       "    </tr>\n",
       "    <tr>\n",
       "      <th>1</th>\n",
       "      <td>4326</td>\n",
       "      <td>75.0</td>\n",
       "      <td>81.0</td>\n",
       "      <td>0</td>\n",
       "    </tr>\n",
       "    <tr>\n",
       "      <th>3</th>\n",
       "      <td>59776</td>\n",
       "      <td>110.0</td>\n",
       "      <td>156.0</td>\n",
       "      <td>1</td>\n",
       "    </tr>\n",
       "    <tr>\n",
       "      <th>4</th>\n",
       "      <td>31043</td>\n",
       "      <td>75.0</td>\n",
       "      <td>81.0</td>\n",
       "      <td>0</td>\n",
       "    </tr>\n",
       "    <tr>\n",
       "      <th>5</th>\n",
       "      <td>41706</td>\n",
       "      <td>66.0</td>\n",
       "      <td>176.0</td>\n",
       "      <td>1</td>\n",
       "    </tr>\n",
       "  </tbody>\n",
       "</table>\n",
       "</div>"
      ],
      "text/plain": [
       "   codEstab  codGiro  ubigeoEstab  flagLimaProvEstab\n",
       "0     43629    138.0        176.0                  1\n",
       "1      4326     75.0         81.0                  0\n",
       "3     59776    110.0        156.0                  1\n",
       "4     31043     75.0         81.0                  0\n",
       "5     41706     66.0        176.0                  1"
      ]
     },
     "execution_count": 107,
     "metadata": {},
     "output_type": "execute_result"
    }
   ],
   "source": [
    "# Se obtiene la tabla de establecimientos\n",
    "establecimientos = transactions[['codEstab','codGiro','ubigeoEstab','flagLimaProvEstab']]\n",
    "establecimientos = establecimientos.drop_duplicates()\n",
    "establecimientos.head()"
   ]
  },
  {
   "cell_type": "markdown",
   "metadata": {},
   "source": [
    "Se analiza el porcentaje de registros nulos que tiene cada variable"
   ]
  },
  {
   "cell_type": "code",
   "execution_count": 108,
   "metadata": {},
   "outputs": [
    {
     "data": {
      "text/plain": [
       "codEstab              0.000000\n",
       "codGiro              25.364882\n",
       "ubigeoEstab          25.364882\n",
       "flagLimaProvEstab     0.000000\n",
       "dtype: float64"
      ]
     },
     "execution_count": 108,
     "metadata": {},
     "output_type": "execute_result"
    }
   ],
   "source": [
    "establecimientos.isnull().mean() * 100"
   ]
  },
  {
   "cell_type": "markdown",
   "metadata": {},
   "source": [
    "Los campos codGiro y ubigeoEstab, al ser códigos provenientes de alguna tabla, puede ser remplazados mediante el valor \"0\""
   ]
  },
  {
   "cell_type": "code",
   "execution_count": 109,
   "metadata": {},
   "outputs": [],
   "source": [
    "establecimientos.codGiro = establecimientos.codGiro.fillna(0)\n",
    "establecimientos.ubigeoEstab = establecimientos.ubigeoEstab.fillna(0)"
   ]
  },
  {
   "cell_type": "markdown",
   "metadata": {},
   "source": [
    "Al ser el campo flagLimaProvEstab un valor booleano, debe ser remplazado con \"1\" o con \"0\". Para realizar su remplazo se debe optar por aquel valor al cual tienden mas los datos."
   ]
  },
  {
   "cell_type": "code",
   "execution_count": 119,
   "metadata": {},
   "outputs": [
    {
     "data": {
      "image/png": "[encoded data removed]",
      "text/plain": [
       "<matplotlib.figure.Figure at 0x2ad304e0be0>"
      ]
     },
     "metadata": {},
     "output_type": "display_data"
    }
   ],
   "source": [
    "graph_bars_count(establecimientos,'Uso de la tarjeta Lima/Provincia','flagLimaProvEstab','codEstab')"
   ]
  },
  {
   "cell_type": "markdown",
   "metadata": {},
   "source": [
    "La mayoría de establecimientos tienen el flag 1"
   ]
  },
  {
   "cell_type": "code",
   "execution_count": 120,
   "metadata": {},
   "outputs": [],
   "source": [
    "# Remplazamos los nulos con el flag 1\n",
    "establecimientos.flagLimaProvEstab = establecimientos.flagLimaProvEstab.fillna(1)"
   ]
  },
  {
   "cell_type": "markdown",
   "metadata": {},
   "source": [
    "Se verifica que la tabla de establecimientos no tenga valores nulos"
   ]
  },
  {
   "cell_type": "code",
   "execution_count": 122,
   "metadata": {},
   "outputs": [
    {
     "data": {
      "text/plain": [
       "codEstab             0.0\n",
       "codGiro              0.0\n",
       "ubigeoEstab          0.0\n",
       "flagLimaProvEstab    0.0\n",
       "dtype: float64"
      ]
     },
     "execution_count": 122,
     "metadata": {},
     "output_type": "execute_result"
    }
   ],
   "source": [
    "establecimientos.isnull().mean() * 100"
   ]
  },
  {
   "cell_type": "markdown",
   "metadata": {},
   "source": [
    "Se verfica el tipo de datos de la tabla de establecimientos"
   ]
  },
  {
   "cell_type": "code",
   "execution_count": 123,
   "metadata": {},
   "outputs": [
    {
     "data": {
      "text/plain": [
       "codEstab               int64\n",
       "codGiro              float64\n",
       "ubigeoEstab          float64\n",
       "flagLimaProvEstab      int64\n",
       "dtype: object"
      ]
     },
     "execution_count": 123,
     "metadata": {},
     "output_type": "execute_result"
    }
   ],
   "source": [
    "establecimientos.dtypes"
   ]
  },
  {
   "cell_type": "markdown",
   "metadata": {},
   "source": [
    "Al ser todos los campos numericos enteros, se cambia a este tipo"
   ]
  },
  {
   "cell_type": "code",
   "execution_count": 124,
   "metadata": {},
   "outputs": [],
   "source": [
    "establecimientos.flagLimaProvEstab = establecimientos.flagLimaProvEstab.astype('int', inplace = True)\n",
    "establecimientos.ubigeoEstab = establecimientos.ubigeoEstab.astype('int', inplace = True)\n",
    "establecimientos.codGiro = establecimientos.codGiro.astype('int', inplace = True)"
   ]
  },
  {
   "cell_type": "code",
   "execution_count": 125,
   "metadata": {},
   "outputs": [
    {
     "data": {
      "text/html": [
       "<div>\n",
       "<style>\n",
       "    .dataframe thead tr:only-child th {\n",
       "        text-align: right;\n",
       "    }\n",
       "\n",
       "    .dataframe thead th {\n",
       "        text-align: left;\n",
       "    }\n",
       "\n",
       "    .dataframe tbody tr th {\n",
       "        vertical-align: top;\n",
       "    }\n",
       "</style>\n",
       "<table border=\"1\" class=\"dataframe\">\n",
       "  <thead>\n",
       "    <tr style=\"text-align: right;\">\n",
       "      <th></th>\n",
       "      <th>codEstab</th>\n",
       "      <th>codGiro</th>\n",
       "      <th>ubigeoEstab</th>\n",
       "      <th>flagLimaProvEstab</th>\n",
       "    </tr>\n",
       "  </thead>\n",
       "  <tbody>\n",
       "    <tr>\n",
       "      <th>0</th>\n",
       "      <td>43629</td>\n",
       "      <td>138</td>\n",
       "      <td>176</td>\n",
       "      <td>1</td>\n",
       "    </tr>\n",
       "    <tr>\n",
       "      <th>1</th>\n",
       "      <td>4326</td>\n",
       "      <td>75</td>\n",
       "      <td>81</td>\n",
       "      <td>0</td>\n",
       "    </tr>\n",
       "    <tr>\n",
       "      <th>3</th>\n",
       "      <td>59776</td>\n",
       "      <td>110</td>\n",
       "      <td>156</td>\n",
       "      <td>1</td>\n",
       "    </tr>\n",
       "    <tr>\n",
       "      <th>4</th>\n",
       "      <td>31043</td>\n",
       "      <td>75</td>\n",
       "      <td>81</td>\n",
       "      <td>0</td>\n",
       "    </tr>\n",
       "    <tr>\n",
       "      <th>5</th>\n",
       "      <td>41706</td>\n",
       "      <td>66</td>\n",
       "      <td>176</td>\n",
       "      <td>1</td>\n",
       "    </tr>\n",
       "  </tbody>\n",
       "</table>\n",
       "</div>"
      ],
      "text/plain": [
       "   codEstab  codGiro  ubigeoEstab  flagLimaProvEstab\n",
       "0     43629      138          176                  1\n",
       "1      4326       75           81                  0\n",
       "3     59776      110          156                  1\n",
       "4     31043       75           81                  0\n",
       "5     41706       66          176                  1"
      ]
     },
     "execution_count": 125,
     "metadata": {},
     "output_type": "execute_result"
    }
   ],
   "source": [
    "establecimientos.head()"
   ]
  },
  {
   "cell_type": "markdown",
   "metadata": {},
   "source": [
    "## Creación de la tabla de clientes"
   ]
  },
  {
   "cell_type": "code",
   "execution_count": 69,
   "metadata": {},
   "outputs": [
    {
     "data": {
      "text/html": [
       "<div>\n",
       "<style>\n",
       "    .dataframe thead tr:only-child th {\n",
       "        text-align: right;\n",
       "    }\n",
       "\n",
       "    .dataframe thead th {\n",
       "        text-align: left;\n",
       "    }\n",
       "\n",
       "    .dataframe tbody tr th {\n",
       "        vertical-align: top;\n",
       "    }\n",
       "</style>\n",
       "<table border=\"1\" class=\"dataframe\">\n",
       "  <thead>\n",
       "    <tr style=\"text-align: right;\">\n",
       "      <th></th>\n",
       "      <th>codCliente</th>\n",
       "      <th>rangoEdad</th>\n",
       "      <th>rangoIngreso</th>\n",
       "      <th>flagGenero</th>\n",
       "      <th>flagLimaProvCliente</th>\n",
       "      <th>ubigeoCliente</th>\n",
       "      <th>rangoCtdProdAct</th>\n",
       "      <th>rangoCtdProdPas</th>\n",
       "      <th>rangoCtdProdSeg</th>\n",
       "      <th>flagBxi</th>\n",
       "      <th>saldoTcEntidad1</th>\n",
       "      <th>saldoTcEntidad2</th>\n",
       "      <th>saldoTcEntidad3</th>\n",
       "      <th>saldoTcEntidad4</th>\n",
       "    </tr>\n",
       "  </thead>\n",
       "  <tbody>\n",
       "    <tr>\n",
       "      <th>0</th>\n",
       "      <td>24041</td>\n",
       "      <td>Rango2</td>\n",
       "      <td>Rango2</td>\n",
       "      <td>1</td>\n",
       "      <td>0</td>\n",
       "      <td>360.0</td>\n",
       "      <td>Rango1</td>\n",
       "      <td>Rango1</td>\n",
       "      <td>Rango1</td>\n",
       "      <td>1</td>\n",
       "      <td>NaN</td>\n",
       "      <td>NaN</td>\n",
       "      <td>NaN</td>\n",
       "      <td>NaN</td>\n",
       "    </tr>\n",
       "    <tr>\n",
       "      <th>1</th>\n",
       "      <td>9040</td>\n",
       "      <td>Rango4</td>\n",
       "      <td>Rango6</td>\n",
       "      <td>1</td>\n",
       "      <td>1</td>\n",
       "      <td>260.0</td>\n",
       "      <td>Rango1</td>\n",
       "      <td>Rango1</td>\n",
       "      <td>Rango1</td>\n",
       "      <td>1</td>\n",
       "      <td>Rango1</td>\n",
       "      <td>Rango1</td>\n",
       "      <td>Rango1</td>\n",
       "      <td>Rango1</td>\n",
       "    </tr>\n",
       "    <tr>\n",
       "      <th>2</th>\n",
       "      <td>18233</td>\n",
       "      <td>Rango2</td>\n",
       "      <td>Rango1</td>\n",
       "      <td>1</td>\n",
       "      <td>1</td>\n",
       "      <td>273.0</td>\n",
       "      <td>Rango1</td>\n",
       "      <td>Rango2</td>\n",
       "      <td>Rango1</td>\n",
       "      <td>1</td>\n",
       "      <td>Rango2</td>\n",
       "      <td>Rango1</td>\n",
       "      <td>Rango1</td>\n",
       "      <td>Rango1</td>\n",
       "    </tr>\n",
       "    <tr>\n",
       "      <th>3</th>\n",
       "      <td>7226</td>\n",
       "      <td>Rango5</td>\n",
       "      <td>Rango3</td>\n",
       "      <td>0</td>\n",
       "      <td>1</td>\n",
       "      <td>241.0</td>\n",
       "      <td>Rango1</td>\n",
       "      <td>Rango2</td>\n",
       "      <td>Rango1</td>\n",
       "      <td>1</td>\n",
       "      <td>Rango1</td>\n",
       "      <td>Rango2</td>\n",
       "      <td>Rango1</td>\n",
       "      <td>Rango2</td>\n",
       "    </tr>\n",
       "    <tr>\n",
       "      <th>4</th>\n",
       "      <td>21617</td>\n",
       "      <td>Rango3</td>\n",
       "      <td>Rango2</td>\n",
       "      <td>1</td>\n",
       "      <td>1</td>\n",
       "      <td>268.0</td>\n",
       "      <td>Rango1</td>\n",
       "      <td>Rango1</td>\n",
       "      <td>Rango1</td>\n",
       "      <td>0</td>\n",
       "      <td>NaN</td>\n",
       "      <td>NaN</td>\n",
       "      <td>NaN</td>\n",
       "      <td>NaN</td>\n",
       "    </tr>\n",
       "  </tbody>\n",
       "</table>\n",
       "</div>"
      ],
      "text/plain": [
       "   codCliente rangoEdad rangoIngreso  flagGenero  flagLimaProvCliente  \\\n",
       "0       24041    Rango2       Rango2           1                    0   \n",
       "1        9040    Rango4       Rango6           1                    1   \n",
       "2       18233    Rango2       Rango1           1                    1   \n",
       "3        7226    Rango5       Rango3           0                    1   \n",
       "4       21617    Rango3       Rango2           1                    1   \n",
       "\n",
       "   ubigeoCliente rangoCtdProdAct rangoCtdProdPas rangoCtdProdSeg  flagBxi  \\\n",
       "0          360.0          Rango1          Rango1          Rango1        1   \n",
       "1          260.0          Rango1          Rango1          Rango1        1   \n",
       "2          273.0          Rango1          Rango2          Rango1        1   \n",
       "3          241.0          Rango1          Rango2          Rango1        1   \n",
       "4          268.0          Rango1          Rango1          Rango1        0   \n",
       "\n",
       "  saldoTcEntidad1 saldoTcEntidad2 saldoTcEntidad3 saldoTcEntidad4  \n",
       "0             NaN             NaN             NaN             NaN  \n",
       "1          Rango1          Rango1          Rango1          Rango1  \n",
       "2          Rango2          Rango1          Rango1          Rango1  \n",
       "3          Rango1          Rango2          Rango1          Rango2  \n",
       "4             NaN             NaN             NaN             NaN  "
      ]
     },
     "execution_count": 69,
     "metadata": {},
     "output_type": "execute_result"
    }
   ],
   "source": [
    "info_clients.head()\n",
    "clients = info_clients\n",
    "clients.head()"
   ]
  },
  {
   "cell_type": "markdown",
   "metadata": {},
   "source": [
    "Se analiza la cantidad de nulos"
   ]
  },
  {
   "cell_type": "code",
   "execution_count": 70,
   "metadata": {},
   "outputs": [
    {
     "data": {
      "text/plain": [
       "codCliente              0.000000\n",
       "rangoEdad               0.190000\n",
       "rangoIngreso            4.210000\n",
       "flagGenero              0.000000\n",
       "flagLimaProvCliente     0.000000\n",
       "ubigeoCliente           0.013333\n",
       "rangoCtdProdAct         0.000000\n",
       "rangoCtdProdPas         0.000000\n",
       "rangoCtdProdSeg         0.000000\n",
       "flagBxi                 0.000000\n",
       "saldoTcEntidad1        21.420000\n",
       "saldoTcEntidad2        21.420000\n",
       "saldoTcEntidad3        21.420000\n",
       "saldoTcEntidad4        21.420000\n",
       "dtype: float64"
      ]
     },
     "execution_count": 70,
     "metadata": {},
     "output_type": "execute_result"
    }
   ],
   "source": [
    "clients.isnull().mean() * 100"
   ]
  },
  {
   "cell_type": "code",
   "execution_count": 72,
   "metadata": {},
   "outputs": [],
   "source": [
    "# Remplazamos el valor faltante del codigo de ubigeoCliente\n",
    "clients.ubigeoCliente = clients.ubigeoCliente.fillna(0)"
   ]
  },
  {
   "cell_type": "markdown",
   "metadata": {},
   "source": [
    "Se analiza los rangos de edad"
   ]
  },
  {
   "cell_type": "code",
   "execution_count": 85,
   "metadata": {},
   "outputs": [
    {
     "data": {
      "image/png": "[encoded data removed]",
      "text/plain": [
       "<matplotlib.figure.Figure at 0x2ad0b3a0550>"
      ]
     },
     "metadata": {},
     "output_type": "display_data"
    }
   ],
   "source": [
    "graph_bars_count(clients,\"Edad de los clientes\",'rangoEdad','codCliente')"
   ]
  },
  {
   "cell_type": "code",
   "execution_count": 88,
   "metadata": {},
   "outputs": [],
   "source": [
    "# Se remplaza los valores faltantes de rangoEdad con el Rango5\n",
    "clients.rangoEdad = clients.rangoEdad.fillna('Rango5')"
   ]
  },
  {
   "cell_type": "markdown",
   "metadata": {},
   "source": [
    "Se analiza los rangos de ingresos"
   ]
  },
  {
   "cell_type": "code",
   "execution_count": 86,
   "metadata": {},
   "outputs": [
    {
     "data": {
      "image/png": "[encoded data removed]",
      "text/plain": [
       "<matplotlib.figure.Figure at 0x2ad304e0f60>"
      ]
     },
     "metadata": {},
     "output_type": "display_data"
    }
   ],
   "source": [
    "graph_bars_count(clients,\"Ingresos de los clientes\",'rangoIngreso','codCliente')"
   ]
  },
  {
   "cell_type": "code",
   "execution_count": 89,
   "metadata": {},
   "outputs": [],
   "source": [
    "# Se remplaza los valores faltantes de rangoEdad con el Rango1\n",
    "clients.rangoIngreso = clients.rangoIngreso.fillna('Rango1')"
   ]
  },
  {
   "cell_type": "markdown",
   "metadata": {},
   "source": [
    "Debido al gran porcentaje de datos nulos en los rangos de tarjetas de créditos de otras entidades financieras se eliminan dichas columnas (saldoTcEntidad1,saldoTcEntidad2,saldoTcEntidad3,saldoTcEntidad4)"
   ]
  },
  {
   "cell_type": "code",
   "execution_count": 92,
   "metadata": {},
   "outputs": [],
   "source": [
    "clients = clients.drop(['saldoTcEntidad1','saldoTcEntidad2','saldoTcEntidad3','saldoTcEntidad4'], axis = 1)"
   ]
  },
  {
   "cell_type": "code",
   "execution_count": 94,
   "metadata": {},
   "outputs": [
    {
     "data": {
      "text/plain": [
       "codCliente             0.0\n",
       "rangoEdad              0.0\n",
       "rangoIngreso           0.0\n",
       "flagGenero             0.0\n",
       "flagLimaProvCliente    0.0\n",
       "ubigeoCliente          0.0\n",
       "rangoCtdProdAct        0.0\n",
       "rangoCtdProdPas        0.0\n",
       "rangoCtdProdSeg        0.0\n",
       "flagBxi                0.0\n",
       "dtype: float64"
      ]
     },
     "execution_count": 94,
     "metadata": {},
     "output_type": "execute_result"
    }
   ],
   "source": [
    "clients.isnull().mean() * 100"
   ]
  },
  {
   "cell_type": "code",
   "execution_count": 95,
   "metadata": {},
   "outputs": [
    {
     "data": {
      "text/plain": [
       "codCliente               int64\n",
       "rangoEdad               object\n",
       "rangoIngreso            object\n",
       "flagGenero               int64\n",
       "flagLimaProvCliente      int64\n",
       "ubigeoCliente          float64\n",
       "rangoCtdProdAct         object\n",
       "rangoCtdProdPas         object\n",
       "rangoCtdProdSeg         object\n",
       "flagBxi                  int64\n",
       "dtype: object"
      ]
     },
     "execution_count": 95,
     "metadata": {},
     "output_type": "execute_result"
    }
   ],
   "source": [
    "clients.dtypes"
   ]
  },
  {
   "cell_type": "code",
   "execution_count": 96,
   "metadata": {},
   "outputs": [],
   "source": [
    "clients.ubigeoCliente = clients.ubigeoCliente.astype('int', inplace = True)"
   ]
  },
  {
   "cell_type": "code",
   "execution_count": 98,
   "metadata": {},
   "outputs": [
    {
     "data": {
      "text/html": [
       "<div>\n",
       "<style>\n",
       "    .dataframe thead tr:only-child th {\n",
       "        text-align: right;\n",
       "    }\n",
       "\n",
       "    .dataframe thead th {\n",
       "        text-align: left;\n",
       "    }\n",
       "\n",
       "    .dataframe tbody tr th {\n",
       "        vertical-align: top;\n",
       "    }\n",
       "</style>\n",
       "<table border=\"1\" class=\"dataframe\">\n",
       "  <thead>\n",
       "    <tr style=\"text-align: right;\">\n",
       "      <th></th>\n",
       "      <th>codCliente</th>\n",
       "      <th>rangoEdad</th>\n",
       "      <th>rangoIngreso</th>\n",
       "      <th>flagGenero</th>\n",
       "      <th>flagLimaProvCliente</th>\n",
       "      <th>ubigeoCliente</th>\n",
       "      <th>rangoCtdProdAct</th>\n",
       "      <th>rangoCtdProdPas</th>\n",
       "      <th>rangoCtdProdSeg</th>\n",
       "      <th>flagBxi</th>\n",
       "    </tr>\n",
       "  </thead>\n",
       "  <tbody>\n",
       "    <tr>\n",
       "      <th>0</th>\n",
       "      <td>24041</td>\n",
       "      <td>Rango2</td>\n",
       "      <td>Rango2</td>\n",
       "      <td>1</td>\n",
       "      <td>0</td>\n",
       "      <td>360</td>\n",
       "      <td>Rango1</td>\n",
       "      <td>Rango1</td>\n",
       "      <td>Rango1</td>\n",
       "      <td>1</td>\n",
       "    </tr>\n",
       "    <tr>\n",
       "      <th>1</th>\n",
       "      <td>9040</td>\n",
       "      <td>Rango4</td>\n",
       "      <td>Rango6</td>\n",
       "      <td>1</td>\n",
       "      <td>1</td>\n",
       "      <td>260</td>\n",
       "      <td>Rango1</td>\n",
       "      <td>Rango1</td>\n",
       "      <td>Rango1</td>\n",
       "      <td>1</td>\n",
       "    </tr>\n",
       "    <tr>\n",
       "      <th>2</th>\n",
       "      <td>18233</td>\n",
       "      <td>Rango2</td>\n",
       "      <td>Rango1</td>\n",
       "      <td>1</td>\n",
       "      <td>1</td>\n",
       "      <td>273</td>\n",
       "      <td>Rango1</td>\n",
       "      <td>Rango2</td>\n",
       "      <td>Rango1</td>\n",
       "      <td>1</td>\n",
       "    </tr>\n",
       "    <tr>\n",
       "      <th>3</th>\n",
       "      <td>7226</td>\n",
       "      <td>Rango5</td>\n",
       "      <td>Rango3</td>\n",
       "      <td>0</td>\n",
       "      <td>1</td>\n",
       "      <td>241</td>\n",
       "      <td>Rango1</td>\n",
       "      <td>Rango2</td>\n",
       "      <td>Rango1</td>\n",
       "      <td>1</td>\n",
       "    </tr>\n",
       "    <tr>\n",
       "      <th>4</th>\n",
       "      <td>21617</td>\n",
       "      <td>Rango3</td>\n",
       "      <td>Rango2</td>\n",
       "      <td>1</td>\n",
       "      <td>1</td>\n",
       "      <td>268</td>\n",
       "      <td>Rango1</td>\n",
       "      <td>Rango1</td>\n",
       "      <td>Rango1</td>\n",
       "      <td>0</td>\n",
       "    </tr>\n",
       "  </tbody>\n",
       "</table>\n",
       "</div>"
      ],
      "text/plain": [
       "   codCliente rangoEdad rangoIngreso  flagGenero  flagLimaProvCliente  \\\n",
       "0       24041    Rango2       Rango2           1                    0   \n",
       "1        9040    Rango4       Rango6           1                    1   \n",
       "2       18233    Rango2       Rango1           1                    1   \n",
       "3        7226    Rango5       Rango3           0                    1   \n",
       "4       21617    Rango3       Rango2           1                    1   \n",
       "\n",
       "   ubigeoCliente rangoCtdProdAct rangoCtdProdPas rangoCtdProdSeg  flagBxi  \n",
       "0            360          Rango1          Rango1          Rango1        1  \n",
       "1            260          Rango1          Rango1          Rango1        1  \n",
       "2            273          Rango1          Rango2          Rango1        1  \n",
       "3            241          Rango1          Rango2          Rango1        1  \n",
       "4            268          Rango1          Rango1          Rango1        0  "
      ]
     },
     "execution_count": 98,
     "metadata": {},
     "output_type": "execute_result"
    }
   ],
   "source": [
    "clients.head()"
   ]
  },
  {
   "cell_type": "markdown",
   "metadata": {},
   "source": [
    "## Obtención de la cantidad de transacciones"
   ]
  },
  {
   "cell_type": "code",
   "execution_count": 128,
   "metadata": {},
   "outputs": [],
   "source": [
    "def getTrx(tbl_agg, codigo,nombre_trx):\n",
    "    df = tbl_agg[[codigo,'ctdTrx']]\n",
    "    df = df.groupby(codigo, as_index = False).sum()\n",
    "    df.rename(columns={'ctdTrx':nombre_trx}, inplace = True)\n",
    "    return df"
   ]
  },
  {
   "cell_type": "code",
   "execution_count": 127,
   "metadata": {},
   "outputs": [],
   "source": [
    "def merge_trx(tbl_agg, tbl_merge, lista_vars):\n",
    "    for var in lista_vars:\n",
    "        codigo = var[0]\n",
    "        trx = var[1]\n",
    "        tbl_merge = pd.merge(tbl_merge, getTrx(tbl_agg, codigo,trx), on=codigo, how='left')\n",
    "        \n",
    "        # Se remplaza los nulos con la media\n",
    "        media_col = tbl_merge[trx].mean()\n",
    "        tbl_merge[trx] = tbl_merge[trx].fillna(media_col)\n",
    "    \n",
    "    return tbl_merge"
   ]
  },
  {
   "cell_type": "markdown",
   "metadata": {},
   "source": [
    "Se obtienen la cantidad de transacciones de los clientes y las ubicaciones gegráficas de los clientes"
   ]
  },
  {
   "cell_type": "code",
   "execution_count": 154,
   "metadata": {},
   "outputs": [
    {
     "data": {
      "text/html": [
       "<div>\n",
       "<style>\n",
       "    .dataframe thead tr:only-child th {\n",
       "        text-align: right;\n",
       "    }\n",
       "\n",
       "    .dataframe thead th {\n",
       "        text-align: left;\n",
       "    }\n",
       "\n",
       "    .dataframe tbody tr th {\n",
       "        vertical-align: top;\n",
       "    }\n",
       "</style>\n",
       "<table border=\"1\" class=\"dataframe\">\n",
       "  <thead>\n",
       "    <tr style=\"text-align: right;\">\n",
       "      <th></th>\n",
       "      <th>codCliente</th>\n",
       "      <th>rangoEdad</th>\n",
       "      <th>rangoIngreso</th>\n",
       "      <th>flagGenero</th>\n",
       "      <th>flagLimaProvCliente</th>\n",
       "      <th>ubigeoCliente</th>\n",
       "      <th>rangoCtdProdAct</th>\n",
       "      <th>rangoCtdProdPas</th>\n",
       "      <th>rangoCtdProdSeg</th>\n",
       "      <th>flagBxi</th>\n",
       "      <th>trxCliente</th>\n",
       "      <th>trxGeoCliente</th>\n",
       "    </tr>\n",
       "  </thead>\n",
       "  <tbody>\n",
       "    <tr>\n",
       "      <th>0</th>\n",
       "      <td>24041</td>\n",
       "      <td>Rango2</td>\n",
       "      <td>Rango2</td>\n",
       "      <td>1</td>\n",
       "      <td>0</td>\n",
       "      <td>360</td>\n",
       "      <td>Rango1</td>\n",
       "      <td>Rango1</td>\n",
       "      <td>Rango1</td>\n",
       "      <td>1</td>\n",
       "      <td>4</td>\n",
       "      <td>4.0</td>\n",
       "    </tr>\n",
       "    <tr>\n",
       "      <th>1</th>\n",
       "      <td>9040</td>\n",
       "      <td>Rango4</td>\n",
       "      <td>Rango6</td>\n",
       "      <td>1</td>\n",
       "      <td>1</td>\n",
       "      <td>260</td>\n",
       "      <td>Rango1</td>\n",
       "      <td>Rango1</td>\n",
       "      <td>Rango1</td>\n",
       "      <td>1</td>\n",
       "      <td>77</td>\n",
       "      <td>36193.0</td>\n",
       "    </tr>\n",
       "    <tr>\n",
       "      <th>2</th>\n",
       "      <td>18233</td>\n",
       "      <td>Rango2</td>\n",
       "      <td>Rango1</td>\n",
       "      <td>1</td>\n",
       "      <td>1</td>\n",
       "      <td>273</td>\n",
       "      <td>Rango1</td>\n",
       "      <td>Rango2</td>\n",
       "      <td>Rango1</td>\n",
       "      <td>1</td>\n",
       "      <td>65</td>\n",
       "      <td>29861.0</td>\n",
       "    </tr>\n",
       "    <tr>\n",
       "      <th>3</th>\n",
       "      <td>7226</td>\n",
       "      <td>Rango5</td>\n",
       "      <td>Rango3</td>\n",
       "      <td>0</td>\n",
       "      <td>1</td>\n",
       "      <td>241</td>\n",
       "      <td>Rango1</td>\n",
       "      <td>Rango2</td>\n",
       "      <td>Rango1</td>\n",
       "      <td>1</td>\n",
       "      <td>366</td>\n",
       "      <td>52562.0</td>\n",
       "    </tr>\n",
       "    <tr>\n",
       "      <th>4</th>\n",
       "      <td>21617</td>\n",
       "      <td>Rango3</td>\n",
       "      <td>Rango2</td>\n",
       "      <td>1</td>\n",
       "      <td>1</td>\n",
       "      <td>268</td>\n",
       "      <td>Rango1</td>\n",
       "      <td>Rango1</td>\n",
       "      <td>Rango1</td>\n",
       "      <td>0</td>\n",
       "      <td>15</td>\n",
       "      <td>18641.0</td>\n",
       "    </tr>\n",
       "  </tbody>\n",
       "</table>\n",
       "</div>"
      ],
      "text/plain": [
       "   codCliente rangoEdad rangoIngreso  flagGenero  flagLimaProvCliente  \\\n",
       "0       24041    Rango2       Rango2           1                    0   \n",
       "1        9040    Rango4       Rango6           1                    1   \n",
       "2       18233    Rango2       Rango1           1                    1   \n",
       "3        7226    Rango5       Rango3           0                    1   \n",
       "4       21617    Rango3       Rango2           1                    1   \n",
       "\n",
       "  ubigeoCliente rangoCtdProdAct rangoCtdProdPas rangoCtdProdSeg  flagBxi  \\\n",
       "0           360          Rango1          Rango1          Rango1        1   \n",
       "1           260          Rango1          Rango1          Rango1        1   \n",
       "2           273          Rango1          Rango2          Rango1        1   \n",
       "3           241          Rango1          Rango2          Rango1        1   \n",
       "4           268          Rango1          Rango1          Rango1        0   \n",
       "\n",
       "   trxCliente  trxGeoCliente  \n",
       "0           4            4.0  \n",
       "1          77        36193.0  \n",
       "2          65        29861.0  \n",
       "3         366        52562.0  \n",
       "4          15        18641.0  "
      ]
     },
     "execution_count": 154,
     "metadata": {},
     "output_type": "execute_result"
    }
   ],
   "source": [
    "lista_vars = [\n",
    "    ['codCliente','trxCliente'],\n",
    "    ['ubigeoCliente','trxGeoCliente'],\n",
    "]\n",
    "\n",
    "clients_trx = merge_trx(transactions,clients,lista_vars)\n",
    "clients_trx.head()"
   ]
  },
  {
   "cell_type": "code",
   "execution_count": 138,
   "metadata": {},
   "outputs": [
    {
     "data": {
      "text/plain": [
       "codCliente             0.0\n",
       "rangoEdad              0.0\n",
       "rangoIngreso           0.0\n",
       "flagGenero             0.0\n",
       "flagLimaProvCliente    0.0\n",
       "ubigeoCliente          0.0\n",
       "rangoCtdProdAct        0.0\n",
       "rangoCtdProdPas        0.0\n",
       "rangoCtdProdSeg        0.0\n",
       "flagBxi                0.0\n",
       "trxCliente             0.0\n",
       "trxGeoCliente          0.0\n",
       "dtype: float64"
      ]
     },
     "execution_count": 138,
     "metadata": {},
     "output_type": "execute_result"
    }
   ],
   "source": [
    "clients_trx.isnull().mean()"
   ]
  },
  {
   "cell_type": "markdown",
   "metadata": {},
   "source": [
    "Se obtienen la cantidad de transacciones de los establecimientos, los rubros (giros) y la ubicación geográfica de los mismos"
   ]
  },
  {
   "cell_type": "code",
   "execution_count": 141,
   "metadata": {},
   "outputs": [
    {
     "data": {
      "text/html": [
       "<div>\n",
       "<style>\n",
       "    .dataframe thead tr:only-child th {\n",
       "        text-align: right;\n",
       "    }\n",
       "\n",
       "    .dataframe thead th {\n",
       "        text-align: left;\n",
       "    }\n",
       "\n",
       "    .dataframe tbody tr th {\n",
       "        vertical-align: top;\n",
       "    }\n",
       "</style>\n",
       "<table border=\"1\" class=\"dataframe\">\n",
       "  <thead>\n",
       "    <tr style=\"text-align: right;\">\n",
       "      <th></th>\n",
       "      <th>codEstab</th>\n",
       "      <th>codGiro</th>\n",
       "      <th>ubigeoEstab</th>\n",
       "      <th>flagLimaProvEstab</th>\n",
       "      <th>trxGiro</th>\n",
       "      <th>trxUbigeoEstab</th>\n",
       "      <th>trxEstab</th>\n",
       "    </tr>\n",
       "  </thead>\n",
       "  <tbody>\n",
       "    <tr>\n",
       "      <th>0</th>\n",
       "      <td>43629</td>\n",
       "      <td>138</td>\n",
       "      <td>176</td>\n",
       "      <td>1</td>\n",
       "      <td>119.0</td>\n",
       "      <td>40121.0</td>\n",
       "      <td>1</td>\n",
       "    </tr>\n",
       "    <tr>\n",
       "      <th>1</th>\n",
       "      <td>4326</td>\n",
       "      <td>75</td>\n",
       "      <td>81</td>\n",
       "      <td>0</td>\n",
       "      <td>345939.0</td>\n",
       "      <td>38187.0</td>\n",
       "      <td>1085</td>\n",
       "    </tr>\n",
       "    <tr>\n",
       "      <th>2</th>\n",
       "      <td>59776</td>\n",
       "      <td>110</td>\n",
       "      <td>156</td>\n",
       "      <td>1</td>\n",
       "      <td>243278.0</td>\n",
       "      <td>22634.0</td>\n",
       "      <td>165</td>\n",
       "    </tr>\n",
       "    <tr>\n",
       "      <th>3</th>\n",
       "      <td>31043</td>\n",
       "      <td>75</td>\n",
       "      <td>81</td>\n",
       "      <td>0</td>\n",
       "      <td>345939.0</td>\n",
       "      <td>38187.0</td>\n",
       "      <td>1339</td>\n",
       "    </tr>\n",
       "    <tr>\n",
       "      <th>4</th>\n",
       "      <td>41706</td>\n",
       "      <td>66</td>\n",
       "      <td>176</td>\n",
       "      <td>1</td>\n",
       "      <td>1822.0</td>\n",
       "      <td>40121.0</td>\n",
       "      <td>1</td>\n",
       "    </tr>\n",
       "  </tbody>\n",
       "</table>\n",
       "</div>"
      ],
      "text/plain": [
       "   codEstab codGiro ubigeoEstab  flagLimaProvEstab   trxGiro  trxUbigeoEstab  \\\n",
       "0     43629     138         176                  1     119.0         40121.0   \n",
       "1      4326      75          81                  0  345939.0         38187.0   \n",
       "2     59776     110         156                  1  243278.0         22634.0   \n",
       "3     31043      75          81                  0  345939.0         38187.0   \n",
       "4     41706      66         176                  1    1822.0         40121.0   \n",
       "\n",
       "   trxEstab  \n",
       "0         1  \n",
       "1      1085  \n",
       "2       165  \n",
       "3      1339  \n",
       "4         1  "
      ]
     },
     "execution_count": 141,
     "metadata": {},
     "output_type": "execute_result"
    }
   ],
   "source": [
    "lista_vars = [\n",
    "    ['codGiro','trxGiro'],\n",
    "    ['ubigeoEstab','trxUbigeoEstab'],\n",
    "    ['codEstab','trxEstab']\n",
    "]\n",
    "\n",
    "estab_trx = merge_trx(transactions,establecimientos,lista_vars)\n",
    "estab_trx.head()"
   ]
  },
  {
   "cell_type": "code",
   "execution_count": 143,
   "metadata": {},
   "outputs": [
    {
     "data": {
      "text/plain": [
       "codEstab             0.0\n",
       "codGiro              0.0\n",
       "ubigeoEstab          0.0\n",
       "flagLimaProvEstab    0.0\n",
       "trxGiro              0.0\n",
       "trxUbigeoEstab       0.0\n",
       "trxEstab             0.0\n",
       "dtype: float64"
      ]
     },
     "execution_count": 143,
     "metadata": {},
     "output_type": "execute_result"
    }
   ],
   "source": [
    "estab_trx.isnull().mean()"
   ]
  },
  {
   "cell_type": "markdown",
   "metadata": {},
   "source": [
    "## Obtención del conjunto de entrenamiento y prueba"
   ]
  },
  {
   "cell_type": "code",
   "execution_count": 170,
   "metadata": {},
   "outputs": [
    {
     "data": {
      "text/html": [
       "<div>\n",
       "<style>\n",
       "    .dataframe thead tr:only-child th {\n",
       "        text-align: right;\n",
       "    }\n",
       "\n",
       "    .dataframe thead th {\n",
       "        text-align: left;\n",
       "    }\n",
       "\n",
       "    .dataframe tbody tr th {\n",
       "        vertical-align: top;\n",
       "    }\n",
       "</style>\n",
       "<table border=\"1\" class=\"dataframe\">\n",
       "  <thead>\n",
       "    <tr style=\"text-align: right;\">\n",
       "      <th></th>\n",
       "      <th>codCliente</th>\n",
       "      <th>codEstab</th>\n",
       "      <th>ratingMonto</th>\n",
       "      <th>rangoEdad</th>\n",
       "      <th>rangoIngreso</th>\n",
       "      <th>flagGenero</th>\n",
       "      <th>flagLimaProvCliente</th>\n",
       "      <th>ubigeoCliente</th>\n",
       "      <th>rangoCtdProdAct</th>\n",
       "      <th>rangoCtdProdPas</th>\n",
       "      <th>rangoCtdProdSeg</th>\n",
       "      <th>flagBxi</th>\n",
       "      <th>trxCliente</th>\n",
       "      <th>trxGeoCliente</th>\n",
       "      <th>codGiro</th>\n",
       "      <th>ubigeoEstab</th>\n",
       "      <th>flagLimaProvEstab</th>\n",
       "      <th>trxGiro</th>\n",
       "      <th>trxUbigeoEstab</th>\n",
       "      <th>trxEstab</th>\n",
       "    </tr>\n",
       "  </thead>\n",
       "  <tbody>\n",
       "    <tr>\n",
       "      <th>0</th>\n",
       "      <td>7649</td>\n",
       "      <td>43629</td>\n",
       "      <td>0.014072</td>\n",
       "      <td>Rango4</td>\n",
       "      <td>Rango2</td>\n",
       "      <td>1</td>\n",
       "      <td>1</td>\n",
       "      <td>281</td>\n",
       "      <td>Rango1</td>\n",
       "      <td>Rango2</td>\n",
       "      <td>Rango1</td>\n",
       "      <td>1</td>\n",
       "      <td>252</td>\n",
       "      <td>32634.0</td>\n",
       "      <td>138</td>\n",
       "      <td>176</td>\n",
       "      <td>1</td>\n",
       "      <td>119.0</td>\n",
       "      <td>40121.0</td>\n",
       "      <td>1</td>\n",
       "    </tr>\n",
       "    <tr>\n",
       "      <th>1</th>\n",
       "      <td>24604</td>\n",
       "      <td>4326</td>\n",
       "      <td>0.001667</td>\n",
       "      <td>Rango2</td>\n",
       "      <td>Rango3</td>\n",
       "      <td>1</td>\n",
       "      <td>0</td>\n",
       "      <td>185</td>\n",
       "      <td>Rango1</td>\n",
       "      <td>Rango1</td>\n",
       "      <td>Rango2</td>\n",
       "      <td>1</td>\n",
       "      <td>177</td>\n",
       "      <td>31324.0</td>\n",
       "      <td>75</td>\n",
       "      <td>81</td>\n",
       "      <td>0</td>\n",
       "      <td>345939.0</td>\n",
       "      <td>38187.0</td>\n",
       "      <td>1085</td>\n",
       "    </tr>\n",
       "    <tr>\n",
       "      <th>2</th>\n",
       "      <td>15289</td>\n",
       "      <td>4326</td>\n",
       "      <td>0.000127</td>\n",
       "      <td>Rango3</td>\n",
       "      <td>Rango1</td>\n",
       "      <td>0</td>\n",
       "      <td>0</td>\n",
       "      <td>185</td>\n",
       "      <td>Rango1</td>\n",
       "      <td>Rango1</td>\n",
       "      <td>Rango1</td>\n",
       "      <td>1</td>\n",
       "      <td>27</td>\n",
       "      <td>31324.0</td>\n",
       "      <td>75</td>\n",
       "      <td>81</td>\n",
       "      <td>0</td>\n",
       "      <td>345939.0</td>\n",
       "      <td>38187.0</td>\n",
       "      <td>1085</td>\n",
       "    </tr>\n",
       "    <tr>\n",
       "      <th>3</th>\n",
       "      <td>5190</td>\n",
       "      <td>59776</td>\n",
       "      <td>0.001167</td>\n",
       "      <td>Rango5</td>\n",
       "      <td>Rango5</td>\n",
       "      <td>0</td>\n",
       "      <td>1</td>\n",
       "      <td>271</td>\n",
       "      <td>Rango2</td>\n",
       "      <td>Rango1</td>\n",
       "      <td>Rango2</td>\n",
       "      <td>1</td>\n",
       "      <td>210</td>\n",
       "      <td>70720.0</td>\n",
       "      <td>110</td>\n",
       "      <td>156</td>\n",
       "      <td>1</td>\n",
       "      <td>243278.0</td>\n",
       "      <td>22634.0</td>\n",
       "      <td>165</td>\n",
       "    </tr>\n",
       "    <tr>\n",
       "      <th>4</th>\n",
       "      <td>16635</td>\n",
       "      <td>31043</td>\n",
       "      <td>0.047386</td>\n",
       "      <td>Rango5</td>\n",
       "      <td>Rango6</td>\n",
       "      <td>1</td>\n",
       "      <td>0</td>\n",
       "      <td>185</td>\n",
       "      <td>Rango1</td>\n",
       "      <td>Rango1</td>\n",
       "      <td>Rango1</td>\n",
       "      <td>1</td>\n",
       "      <td>12</td>\n",
       "      <td>31324.0</td>\n",
       "      <td>75</td>\n",
       "      <td>81</td>\n",
       "      <td>0</td>\n",
       "      <td>345939.0</td>\n",
       "      <td>38187.0</td>\n",
       "      <td>1339</td>\n",
       "    </tr>\n",
       "  </tbody>\n",
       "</table>\n",
       "</div>"
      ],
      "text/plain": [
       "   codCliente  codEstab  ratingMonto rangoEdad rangoIngreso  flagGenero  \\\n",
       "0        7649     43629     0.014072    Rango4       Rango2           1   \n",
       "1       24604      4326     0.001667    Rango2       Rango3           1   \n",
       "2       15289      4326     0.000127    Rango3       Rango1           0   \n",
       "3        5190     59776     0.001167    Rango5       Rango5           0   \n",
       "4       16635     31043     0.047386    Rango5       Rango6           1   \n",
       "\n",
       "   flagLimaProvCliente ubigeoCliente rangoCtdProdAct rangoCtdProdPas  \\\n",
       "0                    1           281          Rango1          Rango2   \n",
       "1                    0           185          Rango1          Rango1   \n",
       "2                    0           185          Rango1          Rango1   \n",
       "3                    1           271          Rango2          Rango1   \n",
       "4                    0           185          Rango1          Rango1   \n",
       "\n",
       "  rangoCtdProdSeg  flagBxi  trxCliente  trxGeoCliente codGiro ubigeoEstab  \\\n",
       "0          Rango1        1         252        32634.0     138         176   \n",
       "1          Rango2        1         177        31324.0      75          81   \n",
       "2          Rango1        1          27        31324.0      75          81   \n",
       "3          Rango2        1         210        70720.0     110         156   \n",
       "4          Rango1        1          12        31324.0      75          81   \n",
       "\n",
       "   flagLimaProvEstab   trxGiro  trxUbigeoEstab  trxEstab  \n",
       "0                  1     119.0         40121.0         1  \n",
       "1                  0  345939.0         38187.0      1085  \n",
       "2                  0  345939.0         38187.0      1085  \n",
       "3                  1  243278.0         22634.0       165  \n",
       "4                  0  345939.0         38187.0      1339  "
      ]
     },
     "execution_count": 170,
     "metadata": {},
     "output_type": "execute_result"
    }
   ],
   "source": [
    "train = transactions[['codCliente','codEstab','ratingMonto']]\n",
    "train = pd.merge(train, clients_trx, on='codCliente', how = 'left')\n",
    "train = pd.merge(train, estab_trx, on='codEstab', how = 'left')\n",
    "train.head()"
   ]
  },
  {
   "cell_type": "code",
   "execution_count": 171,
   "metadata": {},
   "outputs": [
    {
     "data": {
      "text/html": [
       "<div>\n",
       "<style>\n",
       "    .dataframe thead tr:only-child th {\n",
       "        text-align: right;\n",
       "    }\n",
       "\n",
       "    .dataframe thead th {\n",
       "        text-align: left;\n",
       "    }\n",
       "\n",
       "    .dataframe tbody tr th {\n",
       "        vertical-align: top;\n",
       "    }\n",
       "</style>\n",
       "<table border=\"1\" class=\"dataframe\">\n",
       "  <thead>\n",
       "    <tr style=\"text-align: right;\">\n",
       "      <th></th>\n",
       "      <th>trxCliente</th>\n",
       "      <th>trxGeoCliente</th>\n",
       "      <th>trxGiro</th>\n",
       "      <th>trxUbigeoEstab</th>\n",
       "      <th>trxEstab</th>\n",
       "      <th>ratingMonto</th>\n",
       "    </tr>\n",
       "  </thead>\n",
       "  <tbody>\n",
       "    <tr>\n",
       "      <th>trxCliente</th>\n",
       "      <td>1.000000</td>\n",
       "      <td>0.280833</td>\n",
       "      <td>0.021367</td>\n",
       "      <td>0.233382</td>\n",
       "      <td>0.057582</td>\n",
       "      <td>-0.265364</td>\n",
       "    </tr>\n",
       "    <tr>\n",
       "      <th>trxGeoCliente</th>\n",
       "      <td>0.280833</td>\n",
       "      <td>1.000000</td>\n",
       "      <td>0.017629</td>\n",
       "      <td>0.380558</td>\n",
       "      <td>0.049382</td>\n",
       "      <td>-0.106287</td>\n",
       "    </tr>\n",
       "    <tr>\n",
       "      <th>trxGiro</th>\n",
       "      <td>0.021367</td>\n",
       "      <td>0.017629</td>\n",
       "      <td>1.000000</td>\n",
       "      <td>-0.037253</td>\n",
       "      <td>0.042918</td>\n",
       "      <td>-0.116423</td>\n",
       "    </tr>\n",
       "    <tr>\n",
       "      <th>trxUbigeoEstab</th>\n",
       "      <td>0.233382</td>\n",
       "      <td>0.380558</td>\n",
       "      <td>-0.037253</td>\n",
       "      <td>1.000000</td>\n",
       "      <td>0.301125</td>\n",
       "      <td>-0.074534</td>\n",
       "    </tr>\n",
       "    <tr>\n",
       "      <th>trxEstab</th>\n",
       "      <td>0.057582</td>\n",
       "      <td>0.049382</td>\n",
       "      <td>0.042918</td>\n",
       "      <td>0.301125</td>\n",
       "      <td>1.000000</td>\n",
       "      <td>-0.027619</td>\n",
       "    </tr>\n",
       "    <tr>\n",
       "      <th>ratingMonto</th>\n",
       "      <td>-0.265364</td>\n",
       "      <td>-0.106287</td>\n",
       "      <td>-0.116423</td>\n",
       "      <td>-0.074534</td>\n",
       "      <td>-0.027619</td>\n",
       "      <td>1.000000</td>\n",
       "    </tr>\n",
       "  </tbody>\n",
       "</table>\n",
       "</div>"
      ],
      "text/plain": [
       "                trxCliente  trxGeoCliente   trxGiro  trxUbigeoEstab  trxEstab  \\\n",
       "trxCliente        1.000000       0.280833  0.021367        0.233382  0.057582   \n",
       "trxGeoCliente     0.280833       1.000000  0.017629        0.380558  0.049382   \n",
       "trxGiro           0.021367       0.017629  1.000000       -0.037253  0.042918   \n",
       "trxUbigeoEstab    0.233382       0.380558 -0.037253        1.000000  0.301125   \n",
       "trxEstab          0.057582       0.049382  0.042918        0.301125  1.000000   \n",
       "ratingMonto      -0.265364      -0.106287 -0.116423       -0.074534 -0.027619   \n",
       "\n",
       "                ratingMonto  \n",
       "trxCliente        -0.265364  \n",
       "trxGeoCliente     -0.106287  \n",
       "trxGiro           -0.116423  \n",
       "trxUbigeoEstab    -0.074534  \n",
       "trxEstab          -0.027619  \n",
       "ratingMonto        1.000000  "
      ]
     },
     "execution_count": 171,
     "metadata": {},
     "output_type": "execute_result"
    }
   ],
   "source": [
    "trx_vars = ['trxCliente','trxGeoCliente','trxGiro','trxUbigeoEstab','trxEstab','ratingMonto']\n",
    "train[trx_vars].corr()"
   ]
  },
  {
   "cell_type": "code",
   "execution_count": 172,
   "metadata": {},
   "outputs": [],
   "source": [
    "train = pd.get_dummies(train, \n",
    "               prefix=['Edad', 'Ingreso', 'Act', 'Pas', 'Seg'], \n",
    "               columns=['rangoEdad', 'rangoIngreso', 'rangoCtdProdAct', \n",
    "                        'rangoCtdProdPas', 'rangoCtdProdSeg'])"
   ]
  },
  {
   "cell_type": "code",
   "execution_count": 173,
   "metadata": {},
   "outputs": [],
   "source": [
    "# Se elimina las columnas categoricas\n",
    "train = train.drop(['codGiro','ubigeoEstab','ubigeoCliente'], axis = 1)"
   ]
  },
  {
   "cell_type": "code",
   "execution_count": 176,
   "metadata": {},
   "outputs": [
    {
     "data": {
      "text/plain": [
       "(1591617, 34)"
      ]
     },
     "execution_count": 176,
     "metadata": {},
     "output_type": "execute_result"
    }
   ],
   "source": [
    "train.shape"
   ]
  },
  {
   "cell_type": "markdown",
   "metadata": {},
   "source": [
    "## Modelado del conjunto de datos"
   ]
  },
  {
   "cell_type": "code",
   "execution_count": 181,
   "metadata": {},
   "outputs": [],
   "source": [
    "import xgboost as xgb\n",
    "from sklearn.model_selection import train_test_split\n",
    "from sklearn.metrics import mean_squared_error\n",
    "from math import sqrt\n",
    "from time import time"
   ]
  },
  {
   "cell_type": "code",
   "execution_count": 184,
   "metadata": {},
   "outputs": [
    {
     "name": "stdout",
     "output_type": "stream",
     "text": [
      "training time: 418.876 s\n",
      "Predicting time: 4.364 s\n",
      "RMSE: 0.026204\n"
     ]
    }
   ],
   "source": [
    "# Get train data\n",
    "trainV1 = train.copy()\n",
    "\n",
    "# split data into X and y\n",
    "X = trainV1.drop('ratingMonto', axis=1)\n",
    "Y = trainV1['ratingMonto']\n",
    "# split data into train and test sets\n",
    "features_train, features_test, label_train, label_test = train_test_split(X, Y, test_size = 0.3)\n",
    "\n",
    "# training model\n",
    "model = xgb.XGBRegressor(\n",
    "    learning_rate =0.2,\n",
    "    max_depth=5,\n",
    "    n_estimators=200,\n",
    "    seed=123)\n",
    "t0 = time()\n",
    "model.fit(features_train, label_train)\n",
    "print (\"training time:\", round(time()-t0, 3), \"s\")\n",
    "\n",
    "# testing model\n",
    "t0 = time()\n",
    "label_pred = model.predict(features_test)\n",
    "print (\"Predicting time:\", round(time()-t0, 3), \"s\")\n",
    "\n",
    "# accuracy\n",
    "acc = sqrt(mean_squared_error(label_test, label_pred))\n",
    "print (\"RMSE:\", round(acc, 6))"
   ]
  },
  {
   "cell_type": "code",
   "execution_count": 186,
   "metadata": {},
   "outputs": [
    {
     "name": "stdout",
     "output_type": "stream",
     "text": [
      "training time: 2.416 s\n",
      "Predicting time: 0.14 s\n",
      "RMSE: 0.031009\n"
     ]
    }
   ],
   "source": [
    "from sklearn.linear_model import LinearRegression\n",
    "\n",
    "trainV1 = train.copy()\n",
    "\n",
    "# split data into X and y\n",
    "X = trainV1.drop('ratingMonto', axis=1)\n",
    "Y = trainV1['ratingMonto']\n",
    "\n",
    "# split data into train and test sets\n",
    "features_train, features_test, label_train, label_test = train_test_split(X, Y, test_size = 0.3)\n",
    "\n",
    "# training model\n",
    "t0 = time()\n",
    "model = LinearRegression(normalize = True, n_jobs = 5)\n",
    "model = model.fit(features_train, label_train)\n",
    "print (\"training time:\", round(time()-t0, 3), \"s\")\n",
    "\n",
    "# testing model\n",
    "t0 = time()\n",
    "label_pred = model.predict(features_test)\n",
    "print (\"Predicting time:\", round(time()-t0, 3), \"s\")\n",
    "\n",
    "# accuracy\n",
    "acc = sqrt(mean_squared_error(label_test, label_pred))\n",
    "print (\"RMSE:\", round(acc, 6))"
   ]
  }
 ],
 "metadata": {
  "kernelspec": {
   "display_name": "Python 3",
   "language": "python",
   "name": "python3"
  },
  "language_info": {
   "codemirror_mode": {
    "name": "ipython",
    "version": 3
   },
   "file_extension": ".py",
   "mimetype": "text/x-python",
   "name": "python",
   "nbconvert_exporter": "python",
   "pygments_lexer": "ipython3",
   "version": "3.6.3"
  }
 },
 "nbformat": 4,
 "nbformat_minor": 2
}
